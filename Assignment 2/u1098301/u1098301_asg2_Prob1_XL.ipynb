{
  "nbformat": 4,
  "nbformat_minor": 0,
  "metadata": {
    "kernelspec": {
      "display_name": "Python 3",
      "language": "python",
      "name": "python3"
    },
    "language_info": {
      "codemirror_mode": {
        "name": "ipython",
        "version": 3
      },
      "file_extension": ".py",
      "mimetype": "text/x-python",
      "name": "python",
      "nbconvert_exporter": "python",
      "pygments_lexer": "ipython3",
      "version": "3.7.3"
    },
    "colab": {
      "name": "u1234567_asg2_Prob1_XL.ipynb",
      "provenance": []
    }
  },
  "cells": [
    {
      "cell_type": "markdown",
      "metadata": {
        "id": "WIlYsyCSnMLP",
        "colab_type": "text"
      },
      "source": [
        "# First let's import, then look for the assignment below"
      ]
    },
    {
      "cell_type": "code",
      "metadata": {
        "id": "h7jToqFhnMLQ",
        "colab_type": "code",
        "colab": {}
      },
      "source": [
        "#~~~~~~~~~~~~~~~~~~~~~~~~~~~~~~~~~~~~~~~~~~~~~~~~~~~~~~~\n",
        "import sys\n",
        "\n",
        "# -- Detect if in Own Install or in Colab\n",
        "try:\n",
        "    import google.colab\n",
        "    OWN_INSTALL = False\n",
        "except:\n",
        "    OWN_INSTALL = True\n",
        "    \n",
        "if OWN_INSTALL:\n",
        "    \n",
        "  #---- Leave these definitions ON if running on laptop\n",
        "  #---- Else turn OFF by putting them between ''' ... '''\n",
        "\n",
        "  sys.path[0:0] = ['../../../../..',  '../../../../../3rdparty',  \n",
        "                   '../../../..',  '../../../../3rdparty',  \n",
        "                   '../../..',     '../../../3rdparty', \n",
        "                   '../..',        '../../3rdparty',\n",
        "                   '..',           '../3rdparty' ]\n",
        "\n",
        "else: # In colab\n",
        "  ! if [ ! -d Jove ]; then git clone https://github.com/ganeshutah/Jove Jove; fi\n",
        "  sys.path.append('./Jove')\n",
        "  sys.path.append('./Jove/jove')\n",
        "\n",
        "# -- common imports --\n",
        "from jove.LangDef   import *\n",
        "#~~~~~~~~~~~~~~~~~~~~~~~~~~~~~~~~~~~~~~~~~~~~~~~~~~~~~~~"
      ],
      "execution_count": 36,
      "outputs": []
    },
    {
      "cell_type": "markdown",
      "metadata": {
        "id": "U7ps33pmnMLd",
        "colab_type": "text"
      },
      "source": [
        "# Assignment-2 Problem-1a on Complement of a Language\n",
        "\n",
        "## Graded by Xinyi (Nicole) Li (XL)\n",
        "\n",
        "### BEFORE YOU SUBMIT THIS FILE, PLEASE RENAME THIS FILE BY REPLACING THE 0000000 IN THE FILE NAME WITH YOUR CORRECT UNID. KEEP THE \"u\" AT THE BEGINNING.\n",
        "\n",
        "\n",
        " <font size=\"4\"> \n",
        "\n",
        "This problem is based on Problem 7, Page 26 of our textbook.\n",
        "    \n",
        "A language called $L_6$ is defined as follows:\n",
        "    \n",
        "$$ L_6 = \\{ 0^i 1^j \\;:\\; i==j \\}$$  \n",
        "    \n",
        "The problem challenges you to consider a language $L_8$ \n",
        "    \n",
        "$$ L_8 = \\{ 0^i 1^j \\;:\\; i \\neq j \\}$$\n",
        "\n",
        "The problem asks you whether $L_8$ is the complement of $L_6$\n",
        "\n",
        "\n",
        "For this assignment, follow the simplified wording below.\n",
        "    \n",
        "Tasks for you:\n",
        "    \n",
        "1. Given $\\Sigma$, define $L_6$ in Jove for $\\Sigma=\\{0,1\\}$ and the universe being $\\Sigma_3^{*}$.  \n",
        "    \n",
        "</font>"
      ]
    },
    {
      "cell_type": "code",
      "metadata": {
        "id": "mWTMt07inMLe",
        "colab_type": "code",
        "colab": {
          "base_uri": "https://localhost:8080/",
          "height": 34
        },
        "outputId": "14c38008-019f-42e0-8f94-64f457bdf64d"
      },
      "source": [
        "Sigma = {'0','1'}\n",
        "Universe = lstar(Sigma, 3)\n",
        "\n",
        "L6 = lint({\"0\"*i + \"1\"*j for i in range(4) for j in range (4) if i==j}, Universe)\n",
        "L6"
      ],
      "execution_count": 39,
      "outputs": [
        {
          "output_type": "execute_result",
          "data": {
            "text/plain": [
              "{'', '01'}"
            ]
          },
          "metadata": {
            "tags": []
          },
          "execution_count": 39
        }
      ]
    },
    {
      "cell_type": "code",
      "metadata": {
        "id": "jbkHCqDSp-RW",
        "colab_type": "code",
        "colab": {
          "base_uri": "https://localhost:8080/",
          "height": 34
        },
        "outputId": "27f9ffe2-797a-4489-edb4-877c6c194408"
      },
      "source": [
        "print(Universe)"
      ],
      "execution_count": 34,
      "outputs": [
        {
          "output_type": "stream",
          "text": [
            "{'110', '101', '', '1', '011', '001', '100', '10', '00', '111', '0', '01', '11', '010', '000'}\n"
          ],
          "name": "stdout"
        }
      ]
    },
    {
      "cell_type": "markdown",
      "metadata": {
        "id": "WmF6knctnMLi",
        "colab_type": "text"
      },
      "source": [
        "<font size=\"4\"> \n",
        "2. In the same manner, define $L_8$ below.\n",
        "</font>"
      ]
    },
    {
      "cell_type": "code",
      "metadata": {
        "id": "fts9iLa8nMLl",
        "colab_type": "code",
        "colab": {
          "base_uri": "https://localhost:8080/",
          "height": 34
        },
        "outputId": "f001f718-cab8-42b5-ef1b-6324225c0e51"
      },
      "source": [
        "L8 = lint({'0'*i + '1'*j for i in range(4) for j in range(4) if i!=j}, Universe)\n",
        "L8"
      ],
      "execution_count": 35,
      "outputs": [
        {
          "output_type": "execute_result",
          "data": {
            "text/plain": [
              "{'0', '00', '000', '001', '011', '1', '11', '111'}"
            ]
          },
          "metadata": {
            "tags": []
          },
          "execution_count": 35
        }
      ]
    },
    {
      "cell_type": "markdown",
      "metadata": {
        "id": "Bfywk2Y8nMLs",
        "colab_type": "text"
      },
      "source": [
        "<font size=\"4\"> \n",
        "3. We know that if indeed $L_8$ is $L_6$'s complement, then $L_6 \\cup L_8$ must equal $\\Sigma_3^{*}$. Write Python-3 code that calls the suitable set of Jove functions to check whether this is true. The list of Jove functions you can call were printed in the \"help(fnname)\" lines when you loaded this file.\n",
        "</font>"
      ]
    },
    {
      "cell_type": "code",
      "metadata": {
        "id": "oJ1ruXi7nMLu",
        "colab_type": "code",
        "colab": {
          "base_uri": "https://localhost:8080/",
          "height": 34
        },
        "outputId": "beb70a22-6c05-49de-aa04-afb6c723b235"
      },
      "source": [
        "# \"YOUR CODE TO CHECK WHETHER THE ABOVE IDENTITY HOLDS.\"\n",
        "LHS = lunion(L6, L8)\n",
        "RHS = Universe\n",
        "\n",
        "LHS == RHS"
      ],
      "execution_count": 40,
      "outputs": [
        {
          "output_type": "execute_result",
          "data": {
            "text/plain": [
              "False"
            ]
          },
          "metadata": {
            "tags": []
          },
          "execution_count": 40
        }
      ]
    },
    {
      "cell_type": "markdown",
      "metadata": {
        "id": "PRco9q85nMLy",
        "colab_type": "text"
      },
      "source": [
        "<font size=\"4\">\n",
        "\n",
        "4. If the above identity is not true, we are interested in finding out which strings are missed (strings in $\\Sigma_3^*$ that are not present in $L_6\\cup L_8$). (This is similar to what Question 7(d) of Page 26 is asking you.) Compute the strings missed and print them out. A template for your answers is given below. Fill that template in your solution. Define LangMissed as the set of all strings missed. Then print that.\n",
        "    \n",
        "</font>    "
      ]
    },
    {
      "cell_type": "code",
      "metadata": {
        "id": "4ZqCraEsnMLy",
        "colab_type": "code",
        "colab": {
          "base_uri": "https://localhost:8080/",
          "height": 34
        },
        "outputId": "ed27a951-c7c9-4ca7-fbca-ce3174bf9f11"
      },
      "source": [
        "\"YOUR PYTHON-3 CODE CALLING JOVE FUNCTIONS HERE. \"\n",
        "\n",
        "LangMissed = lcomplem(LHS, Sigma, 3)\n",
        "\n",
        "print(\"The strings missed are: \", LangMissed)"
      ],
      "execution_count": 41,
      "outputs": [
        {
          "output_type": "stream",
          "text": [
            "The strings missed are:  {'110', '101', '10', '100', '010'}\n"
          ],
          "name": "stdout"
        }
      ]
    },
    {
      "cell_type": "markdown",
      "metadata": {
        "id": "ZkGeJAednML7",
        "colab_type": "text"
      },
      "source": [
        "<font size=\"4\">\n",
        "\n",
        "5. Below, write a fully mathematical expression that defines a language which captures **ALL** those strings missed. Use the Jupyter markdown syntax. Your clue will come from the strings missed. You have to fold all those examples into a single language expression that is fully general -- that is, it **works in general for the fully general $L_6$ defined on Page 25 of the book. That is, the $i$ and $j$ are **ANY INTEGERS** -- not just integers in range(4).\n",
        "    \n",
        "**PLEASE NOTE**: It Is better that you build this single language expression using union, concatenation, and star. Those are allowed to be used in any language expression. A single language expression does not mean a single set comprehension. You can assemble set comprehensions using union, concatenation, and star to form a larger language. Not all are typically needed, though.\n",
        "    \n",
        "</font> "
      ]
    },
    {
      "cell_type": "markdown",
      "metadata": {
        "id": "awoDc_v0nML8",
        "colab_type": "text"
      },
      "source": [
        "## Your fully general expression here. \n",
        "\n",
        "\n",
        "### Hint: You will have to think of a general pattern such as ...1...0... that is being missed. \n",
        "\n",
        "### Here, the \"...\" are arbitrary strings.\n",
        "\n",
        "### Form a language keeping this idea in mind."
      ]
    },
    {
      "cell_type": "markdown",
      "metadata": {
        "id": "nUBKXglwnML9",
        "colab_type": "text"
      },
      "source": [
        "---------------------"
      ]
    },
    {
      "cell_type": "markdown",
      "metadata": {
        "id": "KfVKz9QpnML-",
        "colab_type": "text"
      },
      "source": [
        "## The fully general expression for the language missed is below.\n",
        "\n",
        "### You may use $\\Sigma$ in your definition, knowing that $\\Sigma = \\{0,1\\}$\n",
        "\n",
        "... YOUR ANSWER HERE in Latex Markdown ..."
      ]
    },
    {
      "cell_type": "markdown",
      "metadata": {
        "id": "ykj6IUV01p3i",
        "colab_type": "text"
      },
      "source": [
        "$ L_4 = \\{ 1^i 0^j \\;:\\; i\\neq j \\}$\n",
        "\n",
        "$ L_5 = \\{ 1^i 0^j \\;:\\; i == j \\}$\n",
        "\n",
        "$\\Sigma = \\{0,1\\}$\n",
        "\n",
        "LangMissed = $(L_4 \\cup L_5) \\cup (L_4 L_5)$"
      ]
    },
    {
      "cell_type": "markdown",
      "metadata": {
        "id": "cS97mUAGnML-",
        "colab_type": "text"
      },
      "source": [
        "# Assignment-2 Problem-1b on Concat versus Cartesian Product\n",
        "\n",
        "## Graded by Xinyi (Nicole) Li (XL)\n",
        "\n",
        "\n",
        "\n",
        "\n",
        " <font size=\"4\"> \n",
        "\n",
        " This is a small addendum to the question of concatenation versus cartesian product that you experimented with, in Assignment-1. I truly believed initially that for the cardinality of $L_1  L_2$ to be less than \n",
        " $L_1 \\times L_2$, the condition that $L_1 \\cap L_2$ is of size at least 2 and contains $\\varepsilon$ must be true.\n",
        " \n",
        " It turns out that that is not necessary! There is a more general condition lurking there.\n",
        " \n",
        " We know why the size of $L_1 \\; L_2$ shrinks: there are two ways to generate the same string, but expressed as two different concatenations, in the final set. \n",
        " \n",
        " Below, can you please state the condition in one clear sentence or two for a small number of points? You can discuss privately with the TAs or instructor on Piazza to finish this, after you try a little.\n",
        " \n",
        "</font>"
      ]
    },
    {
      "cell_type": "markdown",
      "metadata": {
        "id": "iGnMWk1MnMMA",
        "colab_type": "text"
      },
      "source": [
        "## Your answer in markdown below.\n",
        "\n"
      ]
    },
    {
      "cell_type": "markdown",
      "metadata": {
        "id": "ELpw90Jr6f3B",
        "colab_type": "text"
      },
      "source": [
        "I think the condition would be that it contains $\\varepsilon$ since that's the main way we create multiple ways to generate the same string but as different concatenations."
      ]
    },
    {
      "cell_type": "markdown",
      "metadata": {
        "id": "G6RbjucEnMMB",
        "colab_type": "text"
      },
      "source": [
        "# END"
      ]
    }
  ]
}
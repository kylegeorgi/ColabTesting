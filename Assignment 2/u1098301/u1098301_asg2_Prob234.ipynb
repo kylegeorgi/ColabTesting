{
  "nbformat": 4,
  "nbformat_minor": 0,
  "metadata": {
    "kernelspec": {
      "display_name": "Python 3",
      "language": "python",
      "name": "python3"
    },
    "language_info": {
      "codemirror_mode": {
        "name": "ipython",
        "version": 3
      },
      "file_extension": ".py",
      "mimetype": "text/x-python",
      "name": "python",
      "nbconvert_exporter": "python",
      "pygments_lexer": "ipython3",
      "version": "3.7.3"
    },
    "colab": {
      "name": "u1234567_asg2_Prob234.ipynb",
      "provenance": []
    }
  },
  "cells": [
    {
      "cell_type": "markdown",
      "metadata": {
        "id": "K14fuE8TCMye",
        "colab_type": "text"
      },
      "source": [
        "# First let's import, then look for the assignment below"
      ]
    },
    {
      "cell_type": "code",
      "metadata": {
        "id": "TVrTaCJFCMyi",
        "colab_type": "code",
        "colab": {
          "base_uri": "https://localhost:8080/",
          "height": 1000
        },
        "outputId": "3d404c57-3239-4cf5-e0df-92fc5b842151"
      },
      "source": [
        "#~~~~~~~~~~~~~~~~~~~~~~~~~~~~~~~~~~~~~~~~~~~~~~~~~~~~~~~\n",
        "import sys\n",
        "\n",
        "# -- Detect if in Own Install or in Colab\n",
        "try:\n",
        "    import google.colab\n",
        "    OWN_INSTALL = False\n",
        "except:\n",
        "    OWN_INSTALL = True\n",
        "    \n",
        "if OWN_INSTALL:\n",
        "    \n",
        "  #---- Leave these definitions ON if running on laptop\n",
        "  #---- Else turn OFF by putting them between ''' ... '''\n",
        "\n",
        "  sys.path[0:0] = ['../../../../..',  '../../../../../3rdparty',  \n",
        "                   '../../../..',  '../../../../3rdparty',  \n",
        "                   '../../..',     '../../../3rdparty', \n",
        "                   '../..',        '../../3rdparty',\n",
        "                   '..',           '../3rdparty' ]\n",
        "\n",
        "else: # In colab\n",
        "  ! if [ ! -d Jove ]; then git clone https://github.com/ganeshutah/Jove Jove; fi\n",
        "  sys.path.append('./Jove')\n",
        "  sys.path.append('./Jove/jove')\n",
        "\n",
        "# -- common imports --\n",
        "from jove.LangDef   import *  #-- mainly for nthnumeric\n",
        "from jove.Def_md2mc import *  #-- for md2mc\n",
        "from jove.Def_DFA   import *  #-- for all DFA functions\n",
        "from jove.DotBashers import * #-- for dotObj_dfa\n",
        "#~~~~~~~~~~~~~~~~~~~~~~~~~~~~~~~~~~~~~~~~~~~~~~~~~~~~~~~"
      ],
      "execution_count": 2,
      "outputs": [
        {
          "output_type": "stream",
          "text": [
            "Cloning into 'Jove'...\n",
            "remote: Enumerating objects: 187, done.\u001b[K\n",
            "remote: Counting objects: 100% (187/187), done.\u001b[K\n",
            "remote: Compressing objects: 100% (117/117), done.\u001b[K\n",
            "remote: Total 3760 (delta 128), reused 123 (delta 66), pack-reused 3573\u001b[K\n",
            "Receiving objects: 100% (3760/3760), 6.60 MiB | 22.51 MiB/s, done.\n",
            "Resolving deltas: 100% (2427/2427), done.\n",
            "You may use any of these help commands:\n",
            "help(lphi)\n",
            "help(lunit)\n",
            "help(lcat)\n",
            "help(lexp)\n",
            "help(lunion)\n",
            "help(lstar)\n",
            "help(srev)\n",
            "help(lrev)\n",
            "help(shomo)\n",
            "help(lhomo)\n",
            "help(powset)\n",
            "help(lint)\n",
            "help(lsymdiff)\n",
            "help(lminus)\n",
            "help(lissubset)\n",
            "help(lissuperset)\n",
            "help(lcomplem)\n",
            "help(product)\n",
            "help(nthnumeric)\n",
            "\n",
            "You may use any of these help commands:\n",
            "help(md2mc)\n",
            ".. and if you want to dig more, then ..\n",
            "help(default_line_attr)\n",
            "help(length_ok_input_items)\n",
            "help(union_line_attr_list_fld)\n",
            "help(extend_rsltdict)\n",
            "help(form_delta)\n",
            "help(get_machine_components)\n",
            "\n",
            "You may use any of these help commands:\n",
            "help(ResetStNum)\n",
            "help(NxtStateStr)\n",
            "\n",
            "You may use any of these help commands:\n",
            "help(mkp_dfa)\n",
            "help(mk_dfa)\n",
            "help(totalize_dfa)\n",
            "help(addtosigma_delta)\n",
            "help(step_dfa)\n",
            "help(run_dfa)\n",
            "help(accepts_dfa)\n",
            "help(comp_dfa)\n",
            "help(union_dfa)\n",
            "help(intersect_dfa)\n",
            "help(pruneUnreach)\n",
            "help(iso_dfa)\n",
            "help(langeq_dfa)\n",
            "help(same_status)\n",
            "help(h_langeq_dfa)\n",
            "help(fixptDist)\n",
            "help(min_dfa)\n",
            "help(pairFR)\n",
            "help(state_combos)\n",
            "help(sepFinNonFin)\n",
            "help(bash_eql_classes)\n",
            "help(listminus)\n",
            "help(bash_1)\n",
            "help(mk_rep_eqc)\n",
            "help(F_of)\n",
            "help(rep_of_s)\n",
            "help(q0_of)\n",
            "help(Delta_of)\n",
            "help(mk_state_eqc_name)\n",
            "\n"
          ],
          "name": "stdout"
        }
      ]
    },
    {
      "cell_type": "markdown",
      "metadata": {
        "id": "g-pmP9lrCMyy",
        "colab_type": "text"
      },
      "source": [
        "# Assignment-2 Problem-2,3,4: Construct as requested\n",
        "\n",
        "## 2 graded by SV; 3 by AR; 4 by LT\n",
        "\n",
        "### BEFORE YOU SUBMIT THIS FILE, PLEASE RENAME THIS FILE BY REPLACING THE 0000000 IN THE FILE NAME WITH YOUR CORRECT UNID. KEEP THE \"u\" AT THE BEGINNING."
      ]
    },
    {
      "cell_type": "markdown",
      "metadata": {
        "id": "soFXQUgwCMy1",
        "colab_type": "text"
      },
      "source": [
        "# Problem-2 graded by SV\n",
        "\n",
        "<font size=\"4\">    \n",
        "1. Using Jove's markdown, define a DFA for the language of strings over alphabet $\\{0,1\\}$ that accepts an even number of *non-overlapping occurrences* of  $010$s. Thoroughly document your construction!\n",
        "    \n",
        "HERE ARE EXAMPLES :\n",
        "\n",
        "* 01010 - does NOT have an even number of 0's because we wanted NON-OVERLAPPING\n",
        "\n",
        "* 0101010 - has two NON-OVERLAPPING occurrences of 010 -- that is what we want!\n",
        "\n",
        "* 0101111010 - has two NON-OVERLAPPING occurrences of 010\n",
        "\n",
        "* 111111 - has ZERO occurrences of 010\n",
        "    \n",
        "</font>"
      ]
    },
    {
      "cell_type": "markdown",
      "metadata": {
        "id": "yXv-OVLWCMy4",
        "colab_type": "text"
      },
      "source": [
        "### Approach: We will name states to remember the essence of the history of inputs so far. If you do so, and also keep the sense of where the machine is (in an I state, an IF state or an F state), then you'll have the solution fall out automatically!\n",
        "\n",
        "Please read the Jove_User_Manual and the advice given there regarding how to write your automaton markdowns, how to place comments, how to group the lines of a DFA per state, and how to order which transition you may first consider.\n"
      ]
    },
    {
      "cell_type": "code",
      "metadata": {
        "id": "M_1KR4vcCMy6",
        "colab_type": "code",
        "colab": {
          "base_uri": "https://localhost:8080/",
          "height": 34
        },
        "outputId": "c58c618b-e764-4569-de06-97b8e724e2c2"
      },
      "source": [
        "Even010 = md2mc('''\n",
        "DFA \n",
        "\n",
        "!! Put comments describing overall plan here\n",
        "!! Making a DFA for the pattern of an even number of the pattern '010'\n",
        "!! with no-overlaps i.e. 010010 works whereas 01010 does not\n",
        "\n",
        " IF : 1 -> IF   !! Doesn't progess pattern, but technically follows even number of '010' pattern\n",
        " IF : 0 -> S0   !! Starts the pattern\n",
        " \n",
        " S0 : 1 -> S01  !! Continues pattern\n",
        " S0 : 0 -> S0   !! 'restarts' pattern\n",
        "\n",
        " S01 : 1 -> IF     !! Breaks pattern, full reset\n",
        " S01 : 0 -> S010  !! Finishes pattern once\n",
        "\n",
        " S010 : 1 -> S010   !! Secondary initial, waiting for another pattern\n",
        " S010 : 0 -> S20    !! Secondary start of pattern\n",
        "\n",
        " S20 : 1 -> S201  !! Continues second pattern\n",
        " S20 : 0 -> S20   !! 'restarts' second pattern\n",
        "\n",
        " S201 : 1 -> S010   !! Breaks second pattern, reset to second pattern\n",
        " S201 : 0 -> IF     !! Ends second pattern\n",
        " \n",
        "''')"
      ],
      "execution_count": 3,
      "outputs": [
        {
          "output_type": "stream",
          "text": [
            "Generating LALR tables\n"
          ],
          "name": "stderr"
        }
      ]
    },
    {
      "cell_type": "code",
      "metadata": {
        "id": "Y8qowdiCCMzN",
        "colab_type": "code",
        "colab": {
          "base_uri": "https://localhost:8080/",
          "height": 250
        },
        "outputId": "e299722d-0477-43f5-cebf-fd849c847730"
      },
      "source": [
        "dotObj_dfa(Even010)"
      ],
      "execution_count": 4,
      "outputs": [
        {
          "output_type": "execute_result",
          "data": {
            "text/plain": [
              "<graphviz.dot.Digraph at 0x7f1430682be0>"
            ],
            "image/svg+xml": "<?xml version=\"1.0\" encoding=\"UTF-8\" standalone=\"no\"?>\n<!DOCTYPE svg PUBLIC \"-//W3C//DTD SVG 1.1//EN\"\n \"http://www.w3.org/Graphics/SVG/1.1/DTD/svg11.dtd\">\n<!-- Generated by graphviz version 2.40.1 (20161225.0304)\n -->\n<!-- Title: %3 Pages: 1 -->\n<svg width=\"652pt\" height=\"172pt\"\n viewBox=\"0.00 0.00 652.47 172.00\" xmlns=\"http://www.w3.org/2000/svg\" xmlns:xlink=\"http://www.w3.org/1999/xlink\">\n<g id=\"graph0\" class=\"graph\" transform=\"scale(1 1) rotate(0) translate(4 167.9977)\">\n<title>%3</title>\n<polygon fill=\"#ffffff\" stroke=\"transparent\" points=\"-4,4 -4,-167.9977 648.4729,-167.9977 648.4729,4 -4,4\"/>\n<!-- EMPTY -->\n<g id=\"node1\" class=\"node\">\n<title>EMPTY</title>\n</g>\n<!-- IF -->\n<g id=\"node7\" class=\"node\">\n<title>IF</title>\n<ellipse fill=\"none\" stroke=\"#000000\" cx=\"113.8483\" cy=\"-46\" rx=\"18.724\" ry=\"18.724\"/>\n<ellipse fill=\"none\" stroke=\"#000000\" cx=\"113.8483\" cy=\"-46\" rx=\"22.6977\" ry=\"22.6977\"/>\n<text text-anchor=\"middle\" x=\"113.8483\" y=\"-42.3\" font-family=\"Times,serif\" font-size=\"14.00\" fill=\"#000000\">IF</text>\n</g>\n<!-- EMPTY&#45;&gt;IF -->\n<g id=\"edge1\" class=\"edge\">\n<title>EMPTY&#45;&gt;IF</title>\n<path fill=\"none\" stroke=\"#000000\" d=\"M54.0033,-46C62.5212,-46 72.0276,-46 80.9112,-46\"/>\n<polygon fill=\"#000000\" stroke=\"#000000\" points=\"80.9572,-49.5001 90.9572,-46 80.9572,-42.5001 80.9572,-49.5001\"/>\n</g>\n<!-- S01 -->\n<g id=\"node2\" class=\"node\">\n<title>S01</title>\n<ellipse fill=\"none\" stroke=\"#000000\" cx=\"300.2907\" cy=\"-69\" rx=\"25.9954\" ry=\"25.9954\"/>\n<text text-anchor=\"middle\" x=\"300.2907\" y=\"-65.3\" font-family=\"Times,serif\" font-size=\"14.00\" fill=\"#000000\">S01</text>\n</g>\n<!-- S010 -->\n<g id=\"node4\" class=\"node\">\n<title>S010</title>\n<ellipse fill=\"none\" stroke=\"#000000\" cx=\"404.8356\" cy=\"-69\" rx=\"30.5947\" ry=\"30.5947\"/>\n<text text-anchor=\"middle\" x=\"404.8356\" y=\"-65.3\" font-family=\"Times,serif\" font-size=\"14.00\" fill=\"#000000\">S010</text>\n</g>\n<!-- S01&#45;&gt;S010 -->\n<g id=\"edge7\" class=\"edge\">\n<title>S01&#45;&gt;S010</title>\n<path fill=\"none\" stroke=\"#000000\" d=\"M326.4021,-69C337.742,-69 351.2951,-69 363.9195,-69\"/>\n<polygon fill=\"#000000\" stroke=\"#000000\" points=\"364.2367,-72.5001 374.2367,-69 364.2367,-65.5001 364.2367,-72.5001\"/>\n<text text-anchor=\"middle\" x=\"350.2884\" y=\"-72.8\" font-family=\"Times,serif\" font-size=\"14.00\" fill=\"#000000\">0 </text>\n</g>\n<!-- S01&#45;&gt;IF -->\n<g id=\"edge6\" class=\"edge\">\n<title>S01&#45;&gt;IF</title>\n<path fill=\"none\" stroke=\"#000000\" d=\"M274.7161,-63.4619C260.5132,-60.563 242.4911,-57.1742 226.293,-55 199.6505,-51.4239 169.2518,-49.0953 146.7843,-47.7045\"/>\n<polygon fill=\"#000000\" stroke=\"#000000\" points=\"146.9416,-44.2078 136.7529,-47.113 146.5296,-51.1956 146.9416,-44.2078\"/>\n<text text-anchor=\"middle\" x=\"205.4948\" y=\"-58.8\" font-family=\"Times,serif\" font-size=\"14.00\" fill=\"#000000\">1 </text>\n</g>\n<!-- S201 -->\n<g id=\"node3\" class=\"node\">\n<title>S201</title>\n<ellipse fill=\"none\" stroke=\"#000000\" cx=\"613.9256\" cy=\"-46\" rx=\"30.5947\" ry=\"30.5947\"/>\n<text text-anchor=\"middle\" x=\"613.9256\" y=\"-42.3\" font-family=\"Times,serif\" font-size=\"14.00\" fill=\"#000000\">S201</text>\n</g>\n<!-- S201&#45;&gt;S010 -->\n<g id=\"edge12\" class=\"edge\">\n<title>S201&#45;&gt;S010</title>\n<path fill=\"none\" stroke=\"#000000\" d=\"M583.24,-47.1828C556.729,-48.4272 517.4288,-50.8046 483.3829,-55 470.8168,-56.5485 457.2103,-58.776 444.9086,-61.0003\"/>\n<polygon fill=\"#000000\" stroke=\"#000000\" points=\"444.1261,-57.5857 434.9334,-62.8529 445.4044,-64.468 444.1261,-57.5857\"/>\n<text text-anchor=\"middle\" x=\"509.3806\" y=\"-58.8\" font-family=\"Times,serif\" font-size=\"14.00\" fill=\"#000000\">1 </text>\n</g>\n<!-- S201&#45;&gt;IF -->\n<g id=\"edge13\" class=\"edge\">\n<title>S201&#45;&gt;IF</title>\n<path fill=\"none\" stroke=\"#000000\" d=\"M589.0598,-28.0835C568.6744,-15.1674 538.5299,0 509.3806,0 205.4948,0 205.4948,0 205.4948,0 181.5419,0 157.4518,-12.7065 139.9851,-24.763\"/>\n<polygon fill=\"#000000\" stroke=\"#000000\" points=\"137.5214,-22.2269 131.4907,-30.9379 141.6373,-27.889 137.5214,-22.2269\"/>\n<text text-anchor=\"middle\" x=\"350.2884\" y=\"-3.8\" font-family=\"Times,serif\" font-size=\"14.00\" fill=\"#000000\">0 </text>\n</g>\n<!-- S010&#45;&gt;S010 -->\n<g id=\"edge8\" class=\"edge\">\n<title>S010&#45;&gt;S010</title>\n<path fill=\"none\" stroke=\"#000000\" d=\"M394.7329,-97.9071C394.4016,-108.6797 397.7692,-117.5473 404.8356,-117.5473 409.473,-117.5473 412.5173,-113.7284 413.9688,-108.0582\"/>\n<polygon fill=\"#000000\" stroke=\"#000000\" points=\"417.4716,-108.1946 414.9384,-97.9071 410.5033,-107.5289 417.4716,-108.1946\"/>\n<text text-anchor=\"middle\" x=\"404.8356\" y=\"-121.3473\" font-family=\"Times,serif\" font-size=\"14.00\" fill=\"#000000\">1 </text>\n</g>\n<!-- S20 -->\n<g id=\"node6\" class=\"node\">\n<title>S20</title>\n<ellipse fill=\"none\" stroke=\"#000000\" cx=\"509.3806\" cy=\"-105\" rx=\"25.9954\" ry=\"25.9954\"/>\n<text text-anchor=\"middle\" x=\"509.3806\" y=\"-101.3\" font-family=\"Times,serif\" font-size=\"14.00\" fill=\"#000000\">S20</text>\n</g>\n<!-- S010&#45;&gt;S20 -->\n<g id=\"edge9\" class=\"edge\">\n<title>S010&#45;&gt;S20</title>\n<path fill=\"none\" stroke=\"#000000\" d=\"M433.9572,-79.028C446.6677,-83.4048 461.6667,-88.5697 474.9276,-93.1361\"/>\n<polygon fill=\"#000000\" stroke=\"#000000\" points=\"474.0682,-96.5418 484.6629,-96.4885 476.3473,-89.9232 474.0682,-96.5418\"/>\n<text text-anchor=\"middle\" x=\"459.3829\" y=\"-92.8\" font-family=\"Times,serif\" font-size=\"14.00\" fill=\"#000000\">0 </text>\n</g>\n<!-- S0 -->\n<g id=\"node5\" class=\"node\">\n<title>S0</title>\n<ellipse fill=\"none\" stroke=\"#000000\" cx=\"205.4948\" cy=\"-100\" rx=\"20.5982\" ry=\"20.5982\"/>\n<text text-anchor=\"middle\" x=\"205.4948\" y=\"-96.3\" font-family=\"Times,serif\" font-size=\"14.00\" fill=\"#000000\">S0</text>\n</g>\n<!-- S0&#45;&gt;S01 -->\n<g id=\"edge4\" class=\"edge\">\n<title>S0&#45;&gt;S01</title>\n<path fill=\"none\" stroke=\"#000000\" d=\"M225.5986,-93.4257C237.3192,-89.5928 252.4176,-84.6554 265.9689,-80.2239\"/>\n<polygon fill=\"#000000\" stroke=\"#000000\" points=\"267.0757,-83.5444 275.4925,-77.1095 264.8999,-76.8911 267.0757,-83.5444\"/>\n<text text-anchor=\"middle\" x=\"250.293\" y=\"-91.8\" font-family=\"Times,serif\" font-size=\"14.00\" fill=\"#000000\">1 </text>\n</g>\n<!-- S0&#45;&gt;S0 -->\n<g id=\"edge5\" class=\"edge\">\n<title>S0&#45;&gt;S0</title>\n<path fill=\"none\" stroke=\"#000000\" d=\"M197.5348,-119.5637C196.3102,-129.6796 198.9636,-138.7982 205.4948,-138.7982 209.6789,-138.7982 212.2715,-135.0559 213.2725,-129.7065\"/>\n<polygon fill=\"#000000\" stroke=\"#000000\" points=\"216.7745,-129.6249 213.4548,-119.5637 209.7756,-129.4991 216.7745,-129.6249\"/>\n<text text-anchor=\"middle\" x=\"205.4948\" y=\"-142.5982\" font-family=\"Times,serif\" font-size=\"14.00\" fill=\"#000000\">0 </text>\n</g>\n<!-- S20&#45;&gt;S201 -->\n<g id=\"edge10\" class=\"edge\">\n<title>S20&#45;&gt;S201</title>\n<path fill=\"none\" stroke=\"#000000\" d=\"M532.0653,-92.1979C545.6196,-84.5485 563.1315,-74.6657 578.4777,-66.005\"/>\n<polygon fill=\"#000000\" stroke=\"#000000\" points=\"580.2282,-69.0361 587.2168,-61.0731 576.7877,-62.9399 580.2282,-69.0361\"/>\n<text text-anchor=\"middle\" x=\"559.3783\" y=\"-83.8\" font-family=\"Times,serif\" font-size=\"14.00\" fill=\"#000000\">1 </text>\n</g>\n<!-- S20&#45;&gt;S20 -->\n<g id=\"edge11\" class=\"edge\">\n<title>S20&#45;&gt;S20</title>\n<path fill=\"none\" stroke=\"#000000\" d=\"M500.4883,-129.4323C499.7603,-139.9729 502.7244,-148.9977 509.3806,-148.9977 513.7488,-148.9977 516.5269,-145.1111 517.7149,-139.46\"/>\n<polygon fill=\"#000000\" stroke=\"#000000\" points=\"521.2118,-139.6114 518.273,-129.4323 514.2226,-139.2223 521.2118,-139.6114\"/>\n<text text-anchor=\"middle\" x=\"509.3806\" y=\"-152.7977\" font-family=\"Times,serif\" font-size=\"14.00\" fill=\"#000000\">0 </text>\n</g>\n<!-- IF&#45;&gt;S0 -->\n<g id=\"edge3\" class=\"edge\">\n<title>IF&#45;&gt;S0</title>\n<path fill=\"none\" stroke=\"#000000\" d=\"M133.7342,-57.7172C146.8625,-65.4526 164.2258,-75.6835 178.5844,-84.1438\"/>\n<polygon fill=\"#000000\" stroke=\"#000000\" points=\"177.119,-87.3427 187.5114,-89.4038 180.6726,-81.3118 177.119,-87.3427\"/>\n<text text-anchor=\"middle\" x=\"160.6967\" y=\"-80.8\" font-family=\"Times,serif\" font-size=\"14.00\" fill=\"#000000\">0 </text>\n</g>\n<!-- IF&#45;&gt;IF -->\n<g id=\"edge2\" class=\"edge\">\n<title>IF&#45;&gt;IF</title>\n<path fill=\"none\" stroke=\"#000000\" d=\"M106.4966,-67.8532C105.6946,-77.9909 108.1452,-86.8483 113.8483,-86.8483 117.5019,-86.8483 119.8206,-83.2132 120.8045,-77.9352\"/>\n<polygon fill=\"#000000\" stroke=\"#000000\" points=\"124.3052,-77.9828 121.2,-67.8532 117.3106,-77.7083 124.3052,-77.9828\"/>\n<text text-anchor=\"middle\" x=\"113.8483\" y=\"-90.6483\" font-family=\"Times,serif\" font-size=\"14.00\" fill=\"#000000\">1 </text>\n</g>\n</g>\n</svg>\n"
          },
          "metadata": {
            "tags": []
          },
          "execution_count": 4
        }
      ]
    },
    {
      "cell_type": "markdown",
      "metadata": {
        "id": "gV_SfGxhCMzb",
        "colab_type": "text"
      },
      "source": [
        "# Problem-3 graded by AR\n",
        "\n",
        "<font size=\"4\">    \n",
        "3. Using Jove's markdown, define a DFA for the language of strings over alphabet $\\{0,1\\}$ that ends in a $010$, calling it Ends010. Then obtain the intersection with the Even010 machine using intersect_dfa. \n",
        "    \n",
        "    Call the intersection Even010_Ends010.\n",
        "    \n",
        "    Next, minimize Even010_Ends010, storing it in min_Even010_Ends010 .\n",
        "    \n",
        "    Again, document the construction thoroughly.\n",
        "    \n",
        "</font>"
      ]
    },
    {
      "cell_type": "markdown",
      "metadata": {
        "id": "5yF0bFgpCMzd",
        "colab_type": "text"
      },
      "source": [
        "### Approach: We will define a machine for \"ends $010$\" as illustrated in SV's part, and negate."
      ]
    },
    {
      "cell_type": "code",
      "metadata": {
        "id": "VVije81dCMzf",
        "colab_type": "code",
        "colab": {}
      },
      "source": [
        "Ends010 =  md2mc('''\n",
        "DFA\n",
        "\n",
        "!! DFA that ends in '010' pattern\n",
        "\n",
        "I : 1 -> I    !! Doesn't affect anything\n",
        "I : 0 -> S0   !! Starts the pattern\n",
        "\n",
        "S0 : 1 -> S01 !! Continues the pattern\n",
        "S0 : 0 -> S0  !! 'restarts' the pattern\n",
        "\n",
        "S01 : 1 -> I  !! breaks the pattern and restarts\n",
        "S01 : 0 -> F  !! Ends the pattern and should end the sequence\n",
        "\n",
        "F : 1 -> I    !! breaks the pattern and restarts\n",
        "F : 0 -> S0   !! starts a new pattern to look for\n",
        "\n",
        "''')"
      ],
      "execution_count": 5,
      "outputs": []
    },
    {
      "cell_type": "code",
      "metadata": {
        "id": "QsZa9XbDCMzt",
        "colab_type": "code",
        "colab": {
          "base_uri": "https://localhost:8080/",
          "height": 192
        },
        "outputId": "7da69c0c-2acd-4986-813c-0673124346cc"
      },
      "source": [
        "# Let's see the \"Ends010\" machine\n",
        "dotObj_dfa(Ends010, FuseEdges=True)"
      ],
      "execution_count": 6,
      "outputs": [
        {
          "output_type": "execute_result",
          "data": {
            "text/plain": [
              "<graphviz.dot.Digraph at 0x7f1430659cc0>"
            ],
            "image/svg+xml": "<?xml version=\"1.0\" encoding=\"UTF-8\" standalone=\"no\"?>\n<!DOCTYPE svg PUBLIC \"-//W3C//DTD SVG 1.1//EN\"\n \"http://www.w3.org/Graphics/SVG/1.1/DTD/svg11.dtd\">\n<!-- Generated by graphviz version 2.40.1 (20161225.0304)\n -->\n<!-- Title: %3 Pages: 1 -->\n<svg width=\"417pt\" height=\"128pt\"\n viewBox=\"0.00 0.00 416.59 128.00\" xmlns=\"http://www.w3.org/2000/svg\" xmlns:xlink=\"http://www.w3.org/1999/xlink\">\n<g id=\"graph0\" class=\"graph\" transform=\"scale(1 1) rotate(0) translate(4 123.9959)\">\n<title>%3</title>\n<polygon fill=\"#ffffff\" stroke=\"transparent\" points=\"-4,4 -4,-123.9959 412.5917,-123.9959 412.5917,4 -4,4\"/>\n<!-- EMPTY -->\n<g id=\"node1\" class=\"node\">\n<title>EMPTY</title>\n</g>\n<!-- I -->\n<g id=\"node4\" class=\"node\">\n<title>I</title>\n<ellipse fill=\"none\" stroke=\"#000000\" cx=\"109\" cy=\"-34.9959\" rx=\"18\" ry=\"18\"/>\n<text text-anchor=\"middle\" x=\"109\" y=\"-31.2959\" font-family=\"Times,serif\" font-size=\"14.00\" fill=\"#000000\">I</text>\n</g>\n<!-- EMPTY&#45;&gt;I -->\n<g id=\"edge1\" class=\"edge\">\n<title>EMPTY&#45;&gt;I</title>\n<path fill=\"none\" stroke=\"#000000\" d=\"M54.3048,-34.9959C62.6909,-34.9959 71.9407,-34.9959 80.4103,-34.9959\"/>\n<polygon fill=\"#000000\" stroke=\"#000000\" points=\"80.5976,-38.496 90.5976,-34.9959 80.5976,-31.496 80.5976,-38.496\"/>\n</g>\n<!-- S01 -->\n<g id=\"node2\" class=\"node\">\n<title>S01</title>\n<ellipse fill=\"none\" stroke=\"#000000\" cx=\"290.594\" cy=\"-91.9959\" rx=\"25.9954\" ry=\"25.9954\"/>\n<text text-anchor=\"middle\" x=\"290.594\" y=\"-88.2959\" font-family=\"Times,serif\" font-size=\"14.00\" fill=\"#000000\">S01</text>\n</g>\n<!-- S01&#45;&gt;I -->\n<g id=\"edge6\" class=\"edge\">\n<title>S01&#45;&gt;I</title>\n<path fill=\"none\" stroke=\"#000000\" d=\"M265.2424,-99.2583C241.1279,-104.8147 204.2866,-109.7298 175,-97.9959 154.9643,-89.9685 137.5593,-72.6386 125.6606,-58.183\"/>\n<polygon fill=\"#000000\" stroke=\"#000000\" points=\"128.2404,-55.8012 119.3128,-50.096 122.7341,-60.1233 128.2404,-55.8012\"/>\n<text text-anchor=\"middle\" x=\"195.7982\" y=\"-108.7959\" font-family=\"Times,serif\" font-size=\"14.00\" fill=\"#000000\">1 </text>\n</g>\n<!-- F -->\n<g id=\"node5\" class=\"node\">\n<title>F</title>\n<ellipse fill=\"none\" stroke=\"#000000\" cx=\"386.5917\" cy=\"-32.9959\" rx=\"18\" ry=\"18\"/>\n<ellipse fill=\"none\" stroke=\"#000000\" cx=\"386.5917\" cy=\"-32.9959\" rx=\"22\" ry=\"22\"/>\n<text text-anchor=\"middle\" x=\"386.5917\" y=\"-29.2959\" font-family=\"Times,serif\" font-size=\"14.00\" fill=\"#000000\">F</text>\n</g>\n<!-- S01&#45;&gt;F -->\n<g id=\"edge7\" class=\"edge\">\n<title>S01&#45;&gt;F</title>\n<path fill=\"none\" stroke=\"#000000\" d=\"M312.8591,-78.3118C326.6196,-69.8547 344.3862,-58.9353 359.0314,-49.9344\"/>\n<polygon fill=\"#000000\" stroke=\"#000000\" points=\"360.996,-52.8352 367.6829,-44.6172 357.3307,-46.8715 360.996,-52.8352\"/>\n<text text-anchor=\"middle\" x=\"340.5917\" y=\"-67.7959\" font-family=\"Times,serif\" font-size=\"14.00\" fill=\"#000000\">0 </text>\n</g>\n<!-- S0 -->\n<g id=\"node3\" class=\"node\">\n<title>S0</title>\n<ellipse fill=\"none\" stroke=\"#000000\" cx=\"195.7982\" cy=\"-34.9959\" rx=\"20.5982\" ry=\"20.5982\"/>\n<text text-anchor=\"middle\" x=\"195.7982\" y=\"-31.2959\" font-family=\"Times,serif\" font-size=\"14.00\" fill=\"#000000\">S0</text>\n</g>\n<!-- S0&#45;&gt;S01 -->\n<g id=\"edge4\" class=\"edge\">\n<title>S0&#45;&gt;S01</title>\n<path fill=\"none\" stroke=\"#000000\" d=\"M213.6285,-45.7172C226.5406,-53.4811 244.327,-64.176 259.5489,-73.3287\"/>\n<polygon fill=\"#000000\" stroke=\"#000000\" points=\"257.7851,-76.3521 268.1587,-78.5058 261.3923,-70.3531 257.7851,-76.3521\"/>\n<text text-anchor=\"middle\" x=\"240.5963\" y=\"-68.7959\" font-family=\"Times,serif\" font-size=\"14.00\" fill=\"#000000\">1 </text>\n</g>\n<!-- S0&#45;&gt;S0 -->\n<g id=\"edge5\" class=\"edge\">\n<title>S0&#45;&gt;S0</title>\n<path fill=\"none\" stroke=\"#000000\" d=\"M187.8382,-54.5596C186.6136,-64.6755 189.2669,-73.7941 195.7982,-73.7941 199.9822,-73.7941 202.5748,-70.0518 203.5759,-64.7024\"/>\n<polygon fill=\"#000000\" stroke=\"#000000\" points=\"207.0778,-64.6209 203.7581,-54.5596 200.079,-64.4951 207.0778,-64.6209\"/>\n<text text-anchor=\"middle\" x=\"195.7982\" y=\"-77.5941\" font-family=\"Times,serif\" font-size=\"14.00\" fill=\"#000000\">0 </text>\n</g>\n<!-- I&#45;&gt;S0 -->\n<g id=\"edge3\" class=\"edge\">\n<title>I&#45;&gt;S0</title>\n<path fill=\"none\" stroke=\"#000000\" d=\"M127.4077,-34.9959C138.2934,-34.9959 152.3613,-34.9959 164.9052,-34.9959\"/>\n<polygon fill=\"#000000\" stroke=\"#000000\" points=\"164.9803,-38.496 174.9802,-34.9959 164.9802,-31.496 164.9803,-38.496\"/>\n<text text-anchor=\"middle\" x=\"151\" y=\"-38.7959\" font-family=\"Times,serif\" font-size=\"14.00\" fill=\"#000000\">0 </text>\n</g>\n<!-- I&#45;&gt;I -->\n<g id=\"edge2\" class=\"edge\">\n<title>I&#45;&gt;I</title>\n<path fill=\"none\" stroke=\"#000000\" d=\"M102.6208,-52.0332C101.3189,-61.8538 103.4453,-70.9959 109,-70.9959 112.4717,-70.9959 114.6042,-67.4248 115.3975,-62.3488\"/>\n<polygon fill=\"#000000\" stroke=\"#000000\" points=\"118.8971,-62.027 115.3792,-52.0332 111.8971,-62.0395 118.8971,-62.027\"/>\n<text text-anchor=\"middle\" x=\"109\" y=\"-74.7959\" font-family=\"Times,serif\" font-size=\"14.00\" fill=\"#000000\">1 </text>\n</g>\n<!-- F&#45;&gt;S0 -->\n<g id=\"edge9\" class=\"edge\">\n<title>F&#45;&gt;S0</title>\n<path fill=\"none\" stroke=\"#000000\" d=\"M364.4678,-33.2278C330.6052,-33.5828 265.7899,-34.2622 227.1135,-34.6677\"/>\n<polygon fill=\"#000000\" stroke=\"#000000\" points=\"226.9081,-31.1695 216.9454,-34.7742 226.9816,-38.1691 226.9081,-31.1695\"/>\n<text text-anchor=\"middle\" x=\"290.594\" y=\"-37.7959\" font-family=\"Times,serif\" font-size=\"14.00\" fill=\"#000000\">0 </text>\n</g>\n<!-- F&#45;&gt;I -->\n<g id=\"edge8\" class=\"edge\">\n<title>F&#45;&gt;I</title>\n<path fill=\"none\" stroke=\"#000000\" d=\"M365.6739,-25.5001C327.4712,-12.8538 243.9897,9.9479 175,-4.9959 160.6345,-8.1076 145.641,-14.6233 133.5818,-20.7897\"/>\n<polygon fill=\"#000000\" stroke=\"#000000\" points=\"131.7757,-17.7865 124.6078,-25.5885 135.0767,-23.9593 131.7757,-17.7865\"/>\n<text text-anchor=\"middle\" x=\"240.5963\" y=\"-4.7959\" font-family=\"Times,serif\" font-size=\"14.00\" fill=\"#000000\">1 </text>\n</g>\n</g>\n</svg>\n"
          },
          "metadata": {
            "tags": []
          },
          "execution_count": 6
        }
      ]
    },
    {
      "cell_type": "markdown",
      "metadata": {
        "id": "x0Cj_71RCMz4",
        "colab_type": "text"
      },
      "source": [
        "## Obtain the intersection of Even010 and Ends010"
      ]
    },
    {
      "cell_type": "code",
      "metadata": {
        "scrolled": true,
        "id": "SMp4OEC_CMz7",
        "colab_type": "code",
        "colab": {
          "base_uri": "https://localhost:8080/",
          "height": 437
        },
        "outputId": "5705c4c1-f95f-422a-a106-8c5d6cbb280e"
      },
      "source": [
        "Even010_Ends010 = intersect_dfa(Even010, Ends010)\n",
        "dotObj_dfa(Even010_Ends010)"
      ],
      "execution_count": 7,
      "outputs": [
        {
          "output_type": "execute_result",
          "data": {
            "text/plain": [
              "<graphviz.dot.Digraph at 0x7f1430682390>"
            ],
            "image/svg+xml": "<?xml version=\"1.0\" encoding=\"UTF-8\" standalone=\"no\"?>\n<!DOCTYPE svg PUBLIC \"-//W3C//DTD SVG 1.1//EN\"\n \"http://www.w3.org/Graphics/SVG/1.1/DTD/svg11.dtd\">\n<!-- Generated by graphviz version 2.40.1 (20161225.0304)\n -->\n<!-- Title: %3 Pages: 1 -->\n<svg width=\"1155pt\" height=\"297pt\"\n viewBox=\"0.00 0.00 1155.34 297.20\" xmlns=\"http://www.w3.org/2000/svg\" xmlns:xlink=\"http://www.w3.org/1999/xlink\">\n<g id=\"graph0\" class=\"graph\" transform=\"scale(1 1) rotate(0) translate(4 293.1961)\">\n<title>%3</title>\n<polygon fill=\"#ffffff\" stroke=\"transparent\" points=\"-4,4 -4,-293.1961 1151.3368,-293.1961 1151.3368,4 -4,4\"/>\n<!-- EMPTY -->\n<g id=\"node1\" class=\"node\">\n<title>EMPTY</title>\n</g>\n<!-- \\(IF_I\\) -->\n<g id=\"node8\" class=\"node\">\n<title>\\(IF_I\\)</title>\n<ellipse fill=\"none\" stroke=\"#000000\" cx=\"123.4971\" cy=\"-70\" rx=\"32.4942\" ry=\"32.4942\"/>\n<text text-anchor=\"middle\" x=\"123.4971\" y=\"-66.3\" font-family=\"Times,serif\" font-size=\"14.00\" fill=\"#000000\">(IF_I)</text>\n</g>\n<!-- EMPTY&#45;&gt;\\(IF_I\\) -->\n<g id=\"edge1\" class=\"edge\">\n<title>EMPTY&#45;&gt;\\(IF_I\\)</title>\n<path fill=\"none\" stroke=\"#000000\" d=\"M54.1366,-70C62.3991,-70 71.6905,-70 80.7226,-70\"/>\n<polygon fill=\"#000000\" stroke=\"#000000\" points=\"80.7414,-73.5001 90.7413,-70 80.7413,-66.5001 80.7414,-73.5001\"/>\n</g>\n<!-- \\(S0_S0\\) -->\n<g id=\"node2\" class=\"node\">\n<title>\\(S0_S0\\)</title>\n<ellipse fill=\"none\" stroke=\"#000000\" cx=\"246.2405\" cy=\"-70\" rx=\"42.4939\" ry=\"42.4939\"/>\n<text text-anchor=\"middle\" x=\"246.2405\" y=\"-66.3\" font-family=\"Times,serif\" font-size=\"14.00\" fill=\"#000000\">(S0_S0)</text>\n</g>\n<!-- \\(S0_S0\\)&#45;&gt;\\(S0_S0\\) -->\n<g id=\"edge13\" class=\"edge\">\n<title>\\(S0_S0\\)&#45;&gt;\\(S0_S0\\)</title>\n<path fill=\"none\" stroke=\"#000000\" d=\"M233.941,-110.5461C234.5352,-121.7128 238.635,-130.2463 246.2405,-130.2463 251.3504,-130.2463 254.8778,-126.3941 256.8227,-120.4793\"/>\n<polygon fill=\"#000000\" stroke=\"#000000\" points=\"260.2852,-120.9962 258.54,-110.5461 253.3876,-119.8037 260.2852,-120.9962\"/>\n<text text-anchor=\"middle\" x=\"246.2405\" y=\"-134.0463\" font-family=\"Times,serif\" font-size=\"14.00\" fill=\"#000000\">0 </text>\n</g>\n<!-- \\(S01_S01\\) -->\n<g id=\"node3\" class=\"node\">\n<title>\\(S01_S01\\)</title>\n<ellipse fill=\"none\" stroke=\"#000000\" cx=\"388.4821\" cy=\"-144\" rx=\"51.9908\" ry=\"51.9908\"/>\n<text text-anchor=\"middle\" x=\"388.4821\" y=\"-140.3\" font-family=\"Times,serif\" font-size=\"14.00\" fill=\"#000000\">(S01_S01)</text>\n</g>\n<!-- \\(S0_S0\\)&#45;&gt;\\(S01_S01\\) -->\n<g id=\"edge3\" class=\"edge\">\n<title>\\(S0_S0\\)&#45;&gt;\\(S01_S01\\)</title>\n<path fill=\"none\" stroke=\"#000000\" d=\"M283.9852,-89.6364C299.0546,-97.4761 316.7094,-106.6609 333.1734,-115.2261\"/>\n<polygon fill=\"#000000\" stroke=\"#000000\" points=\"331.687,-118.3981 342.1736,-119.9084 334.9177,-112.1882 331.687,-118.3981\"/>\n<text text-anchor=\"middle\" x=\"312.4867\" y=\"-110.8\" font-family=\"Times,serif\" font-size=\"14.00\" fill=\"#000000\">1 </text>\n</g>\n<!-- \\(S010_F\\) -->\n<g id=\"node6\" class=\"node\">\n<title>\\(S010_F\\)</title>\n<ellipse fill=\"none\" stroke=\"#000000\" cx=\"535.2734\" cy=\"-144\" rx=\"46.5926\" ry=\"46.5926\"/>\n<text text-anchor=\"middle\" x=\"535.2734\" y=\"-140.3\" font-family=\"Times,serif\" font-size=\"14.00\" fill=\"#000000\">(S010_F)</text>\n</g>\n<!-- \\(S01_S01\\)&#45;&gt;\\(S010_F\\) -->\n<g id=\"edge16\" class=\"edge\">\n<title>\\(S01_S01\\)&#45;&gt;\\(S010_F\\)</title>\n<path fill=\"none\" stroke=\"#000000\" d=\"M440.6485,-144C452.752,-144 465.6981,-144 478.0075,-144\"/>\n<polygon fill=\"#000000\" stroke=\"#000000\" points=\"478.1651,-147.5001 488.1651,-144 478.1651,-140.5001 478.1651,-147.5001\"/>\n<text text-anchor=\"middle\" x=\"464.4775\" y=\"-147.8\" font-family=\"Times,serif\" font-size=\"14.00\" fill=\"#000000\">0 </text>\n</g>\n<!-- \\(S01_S01\\)&#45;&gt;\\(IF_I\\) -->\n<g id=\"edge10\" class=\"edge\">\n<title>\\(S01_S01\\)&#45;&gt;\\(IF_I\\)</title>\n<path fill=\"none\" stroke=\"#000000\" d=\"M338.2368,-158.3918C299.9087,-166.6611 246.6249,-172.1923 203.9942,-154 180.7954,-144.1001 161.0754,-123.8713 146.9603,-105.7459\"/>\n<polygon fill=\"#000000\" stroke=\"#000000\" points=\"149.6686,-103.5232 140.877,-97.6107 144.0626,-107.7153 149.6686,-103.5232\"/>\n<text text-anchor=\"middle\" x=\"246.2405\" y=\"-169.8\" font-family=\"Times,serif\" font-size=\"14.00\" fill=\"#000000\">1 </text>\n</g>\n<!-- \\(S010_I\\) -->\n<g id=\"node4\" class=\"node\">\n<title>\\(S010_I\\)</title>\n<ellipse fill=\"none\" stroke=\"#000000\" cx=\"674.2653\" cy=\"-212\" rx=\"44.393\" ry=\"44.393\"/>\n<text text-anchor=\"middle\" x=\"674.2653\" y=\"-208.3\" font-family=\"Times,serif\" font-size=\"14.00\" fill=\"#000000\">(S010_I)</text>\n</g>\n<!-- \\(S010_I\\)&#45;&gt;\\(S010_I\\) -->\n<g id=\"edge7\" class=\"edge\">\n<title>\\(S010_I\\)&#45;&gt;\\(S010_I\\)</title>\n<path fill=\"none\" stroke=\"#000000\" d=\"M661.6273,-254.4421C662.3495,-265.6826 666.5622,-274.1961 674.2653,-274.1961 679.4408,-274.1961 683.0407,-270.353 685.0649,-264.4217\"/>\n<polygon fill=\"#000000\" stroke=\"#000000\" points=\"688.5337,-264.9107 686.9032,-254.4421 681.6495,-263.6426 688.5337,-264.9107\"/>\n<text text-anchor=\"middle\" x=\"674.2653\" y=\"-277.9961\" font-family=\"Times,serif\" font-size=\"14.00\" fill=\"#000000\">1 </text>\n</g>\n<!-- \\(S20_S0\\) -->\n<g id=\"node5\" class=\"node\">\n<title>\\(S20_S0\\)</title>\n<ellipse fill=\"none\" stroke=\"#000000\" cx=\"813.2572\" cy=\"-135\" rx=\"46.5926\" ry=\"46.5926\"/>\n<text text-anchor=\"middle\" x=\"813.2572\" y=\"-131.3\" font-family=\"Times,serif\" font-size=\"14.00\" fill=\"#000000\">(S20_S0)</text>\n</g>\n<!-- \\(S010_I\\)&#45;&gt;\\(S20_S0\\) -->\n<g id=\"edge12\" class=\"edge\">\n<title>\\(S010_I\\)&#45;&gt;\\(S20_S0\\)</title>\n<path fill=\"none\" stroke=\"#000000\" d=\"M712.9823,-190.5512C728.5704,-181.9155 746.7476,-171.8456 763.3118,-162.6692\"/>\n<polygon fill=\"#000000\" stroke=\"#000000\" points=\"765.2702,-165.5856 772.3215,-157.678 761.878,-159.4624 765.2702,-165.5856\"/>\n<text text-anchor=\"middle\" x=\"742.4614\" y=\"-178.8\" font-family=\"Times,serif\" font-size=\"14.00\" fill=\"#000000\">0 </text>\n</g>\n<!-- \\(S20_S0\\)&#45;&gt;\\(S20_S0\\) -->\n<g id=\"edge17\" class=\"edge\">\n<title>\\(S20_S0\\)&#45;&gt;\\(S20_S0\\)</title>\n<path fill=\"none\" stroke=\"#000000\" d=\"M800.3125,-180.1189C801.2177,-191.3793 805.5326,-199.7958 813.2572,-199.7958 818.4472,-199.7958 822.098,-195.9965 824.2096,-190.0879\"/>\n<polygon fill=\"#000000\" stroke=\"#000000\" points=\"827.6742,-190.611 826.202,-180.1189 820.8099,-189.239 827.6742,-190.611\"/>\n<text text-anchor=\"middle\" x=\"813.2572\" y=\"-203.5958\" font-family=\"Times,serif\" font-size=\"14.00\" fill=\"#000000\">0 </text>\n</g>\n<!-- \\(S201_S01\\) -->\n<g id=\"node7\" class=\"node\">\n<title>\\(S201_S01\\)</title>\n<ellipse fill=\"none\" stroke=\"#000000\" cx=\"964.598\" cy=\"-143\" rx=\"56.59\" ry=\"56.59\"/>\n<text text-anchor=\"middle\" x=\"964.598\" y=\"-139.3\" font-family=\"Times,serif\" font-size=\"14.00\" fill=\"#000000\">(S201_S01)</text>\n</g>\n<!-- \\(S20_S0\\)&#45;&gt;\\(S201_S01\\) -->\n<g id=\"edge2\" class=\"edge\">\n<title>\\(S20_S0\\)&#45;&gt;\\(S201_S01\\)</title>\n<path fill=\"none\" stroke=\"#000000\" d=\"M860.3128,-137.4874C872.2261,-138.1171 885.2491,-138.8056 897.93,-139.4759\"/>\n<polygon fill=\"#000000\" stroke=\"#000000\" points=\"897.828,-142.9753 907.9988,-140.0081 898.1975,-135.985 897.828,-142.9753\"/>\n<text text-anchor=\"middle\" x=\"884.0531\" y=\"-142.8\" font-family=\"Times,serif\" font-size=\"14.00\" fill=\"#000000\">1 </text>\n</g>\n<!-- \\(S010_F\\)&#45;&gt;\\(S010_I\\) -->\n<g id=\"edge5\" class=\"edge\">\n<title>\\(S010_F\\)&#45;&gt;\\(S010_I\\)</title>\n<path fill=\"none\" stroke=\"#000000\" d=\"M577.3527,-164.5868C592.4476,-171.9718 609.5977,-180.3622 625.2311,-188.0107\"/>\n<polygon fill=\"#000000\" stroke=\"#000000\" points=\"623.7128,-191.1642 634.2335,-192.415 626.789,-184.8764 623.7128,-191.1642\"/>\n<text text-anchor=\"middle\" x=\"606.0692\" y=\"-183.8\" font-family=\"Times,serif\" font-size=\"14.00\" fill=\"#000000\">1 </text>\n</g>\n<!-- \\(S010_F\\)&#45;&gt;\\(S20_S0\\) -->\n<g id=\"edge15\" class=\"edge\">\n<title>\\(S010_F\\)&#45;&gt;\\(S20_S0\\)</title>\n<path fill=\"none\" stroke=\"#000000\" d=\"M582.1152,-142.4834C630.0307,-140.9321 704.5385,-138.5199 755.944,-136.8556\"/>\n<polygon fill=\"#000000\" stroke=\"#000000\" points=\"756.3418,-140.3446 766.2233,-136.5228 756.1153,-133.3483 756.3418,-140.3446\"/>\n<text text-anchor=\"middle\" x=\"674.2653\" y=\"-143.8\" font-family=\"Times,serif\" font-size=\"14.00\" fill=\"#000000\">0 </text>\n</g>\n<!-- \\(S201_S01\\)&#45;&gt;\\(S010_I\\) -->\n<g id=\"edge8\" class=\"edge\">\n<title>\\(S201_S01\\)&#45;&gt;\\(S010_I\\)</title>\n<path fill=\"none\" stroke=\"#000000\" d=\"M925.1819,-183.582C907.0249,-199.4275 884.1674,-215.7513 860.0531,-224 816.9601,-238.7406 765.0186,-233.6185 727.0251,-226.0336\"/>\n<polygon fill=\"#000000\" stroke=\"#000000\" points=\"727.6978,-222.5985 717.19,-223.9536 726.2494,-229.447 727.6978,-222.5985\"/>\n<text text-anchor=\"middle\" x=\"813.2572\" y=\"-236.8\" font-family=\"Times,serif\" font-size=\"14.00\" fill=\"#000000\">1 </text>\n</g>\n<!-- \\(IF_F\\) -->\n<g id=\"node9\" class=\"node\">\n<title>\\(IF_F\\)</title>\n<ellipse fill=\"none\" stroke=\"#000000\" cx=\"1108.2399\" cy=\"-58\" rx=\"35.1841\" ry=\"35.1841\"/>\n<ellipse fill=\"none\" stroke=\"#000000\" cx=\"1108.2399\" cy=\"-58\" rx=\"39.194\" ry=\"39.194\"/>\n<text text-anchor=\"middle\" x=\"1108.2399\" y=\"-54.3\" font-family=\"Times,serif\" font-size=\"14.00\" fill=\"#000000\">(IF_F)</text>\n</g>\n<!-- \\(S201_S01\\)&#45;&gt;\\(IF_F\\) -->\n<g id=\"edge14\" class=\"edge\">\n<title>\\(S201_S01\\)&#45;&gt;\\(IF_F\\)</title>\n<path fill=\"none\" stroke=\"#000000\" d=\"M1013.6297,-113.9856C1030.499,-104.0032 1049.2396,-92.9134 1065.5618,-83.2547\"/>\n<polygon fill=\"#000000\" stroke=\"#000000\" points=\"1067.53,-86.157 1074.3537,-78.0521 1063.9651,-80.1327 1067.53,-86.157\"/>\n<text text-anchor=\"middle\" x=\"1045.143\" y=\"-101.8\" font-family=\"Times,serif\" font-size=\"14.00\" fill=\"#000000\">0 </text>\n</g>\n<!-- \\(IF_I\\)&#45;&gt;\\(S0_S0\\) -->\n<g id=\"edge4\" class=\"edge\">\n<title>\\(IF_I\\)&#45;&gt;\\(S0_S0\\)</title>\n<path fill=\"none\" stroke=\"#000000\" d=\"M156.0678,-70C167.6123,-70 180.9151,-70 193.6962,-70\"/>\n<polygon fill=\"#000000\" stroke=\"#000000\" points=\"193.7911,-73.5001 203.791,-70 193.791,-66.5001 193.7911,-73.5001\"/>\n<text text-anchor=\"middle\" x=\"179.9942\" y=\"-73.8\" font-family=\"Times,serif\" font-size=\"14.00\" fill=\"#000000\">0 </text>\n</g>\n<!-- \\(IF_I\\)&#45;&gt;\\(IF_I\\) -->\n<g id=\"edge11\" class=\"edge\">\n<title>\\(IF_I\\)&#45;&gt;\\(IF_I\\)</title>\n<path fill=\"none\" stroke=\"#000000\" d=\"M114.1221,-101.5607C114.1221,-112.0809 117.2471,-120.4971 123.4971,-120.4971 127.501,-120.4971 130.2224,-117.0431 131.6613,-111.7946\"/>\n<polygon fill=\"#000000\" stroke=\"#000000\" points=\"135.1729,-111.9027 132.8721,-101.5607 128.2214,-111.0802 135.1729,-111.9027\"/>\n<text text-anchor=\"middle\" x=\"123.4971\" y=\"-124.2971\" font-family=\"Times,serif\" font-size=\"14.00\" fill=\"#000000\">1 </text>\n</g>\n<!-- \\(IF_F\\)&#45;&gt;\\(S0_S0\\) -->\n<g id=\"edge6\" class=\"edge\">\n<title>\\(IF_F\\)&#45;&gt;\\(S0_S0\\)</title>\n<path fill=\"none\" stroke=\"#000000\" d=\"M1068.9163,-58C1040.0482,-58 999.8851,-58 964.598,-58 388.4821,-58 388.4821,-58 388.4821,-58 358.4862,-58 325.0576,-60.6825 298.1477,-63.5109\"/>\n<polygon fill=\"#000000\" stroke=\"#000000\" points=\"297.7365,-60.0349 288.1741,-64.5968 298.4942,-66.9938 297.7365,-60.0349\"/>\n<text text-anchor=\"middle\" x=\"674.2653\" y=\"-61.8\" font-family=\"Times,serif\" font-size=\"14.00\" fill=\"#000000\">0 </text>\n</g>\n<!-- \\(IF_F\\)&#45;&gt;\\(IF_I\\) -->\n<g id=\"edge9\" class=\"edge\">\n<title>\\(IF_F\\)&#45;&gt;\\(IF_I\\)</title>\n<path fill=\"none\" stroke=\"#000000\" d=\"M1075.5021,-36.4029C1047.321,-19.9127 1004.9391,0 964.598,0 246.2405,0 246.2405,0 246.2405,0 211.5688,0 177.7681,-21.3365 154.4448,-40.45\"/>\n<polygon fill=\"#000000\" stroke=\"#000000\" points=\"151.9991,-37.9353 146.6478,-47.0794 156.5334,-43.2683 151.9991,-37.9353\"/>\n<text text-anchor=\"middle\" x=\"606.0692\" y=\"-3.8\" font-family=\"Times,serif\" font-size=\"14.00\" fill=\"#000000\">1 </text>\n</g>\n</g>\n</svg>\n"
          },
          "metadata": {
            "tags": []
          },
          "execution_count": 7
        }
      ]
    },
    {
      "cell_type": "markdown",
      "metadata": {
        "id": "yxLuiDc6CM0I",
        "colab_type": "text"
      },
      "source": [
        "## Minimize the intersection of Even010 and Ends010"
      ]
    },
    {
      "cell_type": "code",
      "metadata": {
        "id": "Wb-0-B5XCM0O",
        "colab_type": "code",
        "colab": {
          "base_uri": "https://localhost:8080/",
          "height": 386
        },
        "outputId": "e641b04a-8f9e-4d5b-d5e0-35b66bd919b7"
      },
      "source": [
        "min_Even010_Ends010 = min_dfa(Even010_Ends010)\n",
        "dotObj_dfa(min_Even010_Ends010)"
      ],
      "execution_count": 8,
      "outputs": [
        {
          "output_type": "execute_result",
          "data": {
            "text/plain": [
              "<graphviz.dot.Digraph at 0x7f143068b048>"
            ],
            "image/svg+xml": "<?xml version=\"1.0\" encoding=\"UTF-8\" standalone=\"no\"?>\n<!DOCTYPE svg PUBLIC \"-//W3C//DTD SVG 1.1//EN\"\n \"http://www.w3.org/Graphics/SVG/1.1/DTD/svg11.dtd\">\n<!-- Generated by graphviz version 2.40.1 (20161225.0304)\n -->\n<!-- Title: %3 Pages: 1 -->\n<svg width=\"1019pt\" height=\"274pt\"\n viewBox=\"0.00 0.00 1018.94 273.80\" xmlns=\"http://www.w3.org/2000/svg\" xmlns:xlink=\"http://www.w3.org/1999/xlink\">\n<g id=\"graph0\" class=\"graph\" transform=\"scale(1 1) rotate(0) translate(4 269.7958)\">\n<title>%3</title>\n<polygon fill=\"#ffffff\" stroke=\"transparent\" points=\"-4,4 -4,-269.7958 1014.9446,-269.7958 1014.9446,4 -4,4\"/>\n<!-- EMPTY -->\n<g id=\"node1\" class=\"node\">\n<title>EMPTY</title>\n</g>\n<!-- \\(IF_I\\) -->\n<g id=\"node7\" class=\"node\">\n<title>\\(IF_I\\)</title>\n<ellipse fill=\"none\" stroke=\"#000000\" cx=\"123.4971\" cy=\"-70\" rx=\"32.4942\" ry=\"32.4942\"/>\n<text text-anchor=\"middle\" x=\"123.4971\" y=\"-66.3\" font-family=\"Times,serif\" font-size=\"14.00\" fill=\"#000000\">(IF_I)</text>\n</g>\n<!-- EMPTY&#45;&gt;\\(IF_I\\) -->\n<g id=\"edge1\" class=\"edge\">\n<title>EMPTY&#45;&gt;\\(IF_I\\)</title>\n<path fill=\"none\" stroke=\"#000000\" d=\"M54.1366,-70C62.3991,-70 71.6905,-70 80.7226,-70\"/>\n<polygon fill=\"#000000\" stroke=\"#000000\" points=\"80.7414,-73.5001 90.7413,-70 80.7413,-66.5001 80.7414,-73.5001\"/>\n</g>\n<!-- \\(S0_S0\\) -->\n<g id=\"node2\" class=\"node\">\n<title>\\(S0_S0\\)</title>\n<ellipse fill=\"none\" stroke=\"#000000\" cx=\"246.2405\" cy=\"-70\" rx=\"42.4939\" ry=\"42.4939\"/>\n<text text-anchor=\"middle\" x=\"246.2405\" y=\"-66.3\" font-family=\"Times,serif\" font-size=\"14.00\" fill=\"#000000\">(S0_S0)</text>\n</g>\n<!-- \\(S0_S0\\)&#45;&gt;\\(S0_S0\\) -->\n<g id=\"edge12\" class=\"edge\">\n<title>\\(S0_S0\\)&#45;&gt;\\(S0_S0\\)</title>\n<path fill=\"none\" stroke=\"#000000\" d=\"M233.941,-110.5461C234.5352,-121.7128 238.635,-130.2463 246.2405,-130.2463 251.3504,-130.2463 254.8778,-126.3941 256.8227,-120.4793\"/>\n<polygon fill=\"#000000\" stroke=\"#000000\" points=\"260.2852,-120.9962 258.54,-110.5461 253.3876,-119.8037 260.2852,-120.9962\"/>\n<text text-anchor=\"middle\" x=\"246.2405\" y=\"-134.0463\" font-family=\"Times,serif\" font-size=\"14.00\" fill=\"#000000\">0 </text>\n</g>\n<!-- \\(S01_S01\\) -->\n<g id=\"node3\" class=\"node\">\n<title>\\(S01_S01\\)</title>\n<ellipse fill=\"none\" stroke=\"#000000\" cx=\"388.4821\" cy=\"-138\" rx=\"51.9908\" ry=\"51.9908\"/>\n<text text-anchor=\"middle\" x=\"388.4821\" y=\"-134.3\" font-family=\"Times,serif\" font-size=\"14.00\" fill=\"#000000\">(S01_S01)</text>\n</g>\n<!-- \\(S0_S0\\)&#45;&gt;\\(S01_S01\\) -->\n<g id=\"edge3\" class=\"edge\">\n<title>\\(S0_S0\\)&#45;&gt;\\(S01_S01\\)</title>\n<path fill=\"none\" stroke=\"#000000\" d=\"M284.3586,-88.2228C299.0112,-95.2275 316.0651,-103.3803 332.0781,-111.0355\"/>\n<polygon fill=\"#000000\" stroke=\"#000000\" points=\"330.8284,-114.3174 341.36,-115.4728 333.8476,-108.002 330.8284,-114.3174\"/>\n<text text-anchor=\"middle\" x=\"312.4867\" y=\"-107.8\" font-family=\"Times,serif\" font-size=\"14.00\" fill=\"#000000\">1 </text>\n</g>\n<!-- \\(S010_F\\) -->\n<g id=\"node5\" class=\"node\">\n<title>\\(S010_F\\)</title>\n<ellipse fill=\"none\" stroke=\"#000000\" cx=\"535.2734\" cy=\"-138\" rx=\"46.5926\" ry=\"46.5926\"/>\n<text text-anchor=\"middle\" x=\"535.2734\" y=\"-134.3\" font-family=\"Times,serif\" font-size=\"14.00\" fill=\"#000000\">(S010_F)</text>\n</g>\n<!-- \\(S01_S01\\)&#45;&gt;\\(S010_F\\) -->\n<g id=\"edge14\" class=\"edge\">\n<title>\\(S01_S01\\)&#45;&gt;\\(S010_F\\)</title>\n<path fill=\"none\" stroke=\"#000000\" d=\"M440.6485,-138C452.752,-138 465.6981,-138 478.0075,-138\"/>\n<polygon fill=\"#000000\" stroke=\"#000000\" points=\"478.1651,-141.5001 488.1651,-138 478.1651,-134.5001 478.1651,-141.5001\"/>\n<text text-anchor=\"middle\" x=\"464.4775\" y=\"-141.8\" font-family=\"Times,serif\" font-size=\"14.00\" fill=\"#000000\">0 </text>\n</g>\n<!-- \\(S01_S01\\)&#45;&gt;\\(IF_I\\) -->\n<g id=\"edge9\" class=\"edge\">\n<title>\\(S01_S01\\)&#45;&gt;\\(IF_I\\)</title>\n<path fill=\"none\" stroke=\"#000000\" d=\"M339.0852,-154.6317C300.7313,-164.6813 247.0178,-172.36 203.9942,-154 180.7954,-144.1001 161.0754,-123.8713 146.9603,-105.7459\"/>\n<polygon fill=\"#000000\" stroke=\"#000000\" points=\"149.6686,-103.5232 140.877,-97.6107 144.0626,-107.7153 149.6686,-103.5232\"/>\n<text text-anchor=\"middle\" x=\"246.2405\" y=\"-168.8\" font-family=\"Times,serif\" font-size=\"14.00\" fill=\"#000000\">1 </text>\n</g>\n<!-- \\(S20_S0\\) -->\n<g id=\"node4\" class=\"node\">\n<title>\\(S20_S0\\)</title>\n<ellipse fill=\"none\" stroke=\"#000000\" cx=\"676.8651\" cy=\"-186\" rx=\"46.5926\" ry=\"46.5926\"/>\n<text text-anchor=\"middle\" x=\"676.8651\" y=\"-182.3\" font-family=\"Times,serif\" font-size=\"14.00\" fill=\"#000000\">(S20_S0)</text>\n</g>\n<!-- \\(S20_S0\\)&#45;&gt;\\(S20_S0\\) -->\n<g id=\"edge15\" class=\"edge\">\n<title>\\(S20_S0\\)&#45;&gt;\\(S20_S0\\)</title>\n<path fill=\"none\" stroke=\"#000000\" d=\"M663.9203,-231.1189C664.8255,-242.3793 669.1404,-250.7958 676.8651,-250.7958 682.055,-250.7958 685.7058,-246.9965 687.8174,-241.0879\"/>\n<polygon fill=\"#000000\" stroke=\"#000000\" points=\"691.282,-241.611 689.8098,-231.1189 684.4178,-240.239 691.282,-241.611\"/>\n<text text-anchor=\"middle\" x=\"676.8651\" y=\"-254.5958\" font-family=\"Times,serif\" font-size=\"14.00\" fill=\"#000000\">0 </text>\n</g>\n<!-- \\(S201_S01\\) -->\n<g id=\"node6\" class=\"node\">\n<title>\\(S201_S01\\)</title>\n<ellipse fill=\"none\" stroke=\"#000000\" cx=\"828.2059\" cy=\"-141\" rx=\"56.59\" ry=\"56.59\"/>\n<text text-anchor=\"middle\" x=\"828.2059\" y=\"-137.3\" font-family=\"Times,serif\" font-size=\"14.00\" fill=\"#000000\">(S201_S01)</text>\n</g>\n<!-- \\(S20_S0\\)&#45;&gt;\\(S201_S01\\) -->\n<g id=\"edge2\" class=\"edge\">\n<title>\\(S20_S0\\)&#45;&gt;\\(S201_S01\\)</title>\n<path fill=\"none\" stroke=\"#000000\" d=\"M721.8625,-172.6204C735.101,-168.684 749.8472,-164.2993 764.0405,-160.0791\"/>\n<polygon fill=\"#000000\" stroke=\"#000000\" points=\"765.1653,-163.3962 773.753,-157.1911 763.1702,-156.6865 765.1653,-163.3962\"/>\n<text text-anchor=\"middle\" x=\"747.6609\" y=\"-169.8\" font-family=\"Times,serif\" font-size=\"14.00\" fill=\"#000000\">1 </text>\n</g>\n<!-- \\(S010_F\\)&#45;&gt;\\(S20_S0\\) -->\n<g id=\"edge11\" class=\"edge\">\n<title>\\(S010_F\\)&#45;&gt;\\(S20_S0\\)</title>\n<path fill=\"none\" stroke=\"#000000\" d=\"M579.6854,-153.0558C593.2598,-157.6576 608.3444,-162.7713 622.5012,-167.5705\"/>\n<polygon fill=\"#000000\" stroke=\"#000000\" points=\"621.5295,-170.9367 632.1238,-170.8326 623.7769,-164.3072 621.5295,-170.9367\"/>\n<text text-anchor=\"middle\" x=\"606.0692\" y=\"-166.8\" font-family=\"Times,serif\" font-size=\"14.00\" fill=\"#000000\">0 </text>\n</g>\n<!-- \\(S010_F\\)&#45;&gt;\\(S010_F\\) -->\n<g id=\"edge5\" class=\"edge\">\n<title>\\(S010_F\\)&#45;&gt;\\(S010_F\\)</title>\n<path fill=\"none\" stroke=\"#000000\" d=\"M522.3286,-183.1189C523.2338,-194.3793 527.5487,-202.7958 535.2734,-202.7958 540.4633,-202.7958 544.1141,-198.9965 546.2257,-193.0879\"/>\n<polygon fill=\"#000000\" stroke=\"#000000\" points=\"549.6903,-193.611 548.2181,-183.1189 542.8261,-192.239 549.6903,-193.611\"/>\n<text text-anchor=\"middle\" x=\"535.2734\" y=\"-206.5958\" font-family=\"Times,serif\" font-size=\"14.00\" fill=\"#000000\">1 </text>\n</g>\n<!-- \\(S201_S01\\)&#45;&gt;\\(S010_F\\) -->\n<g id=\"edge7\" class=\"edge\">\n<title>\\(S201_S01\\)&#45;&gt;\\(S010_F\\)</title>\n<path fill=\"none\" stroke=\"#000000\" d=\"M773.8757,-124.826C757.8531,-120.7828 740.1831,-117.0237 723.6609,-115 682.3731,-109.943 671.3713,-110.0612 630.0692,-115 616.9375,-116.5703 602.9961,-119.3228 589.9609,-122.3902\"/>\n<polygon fill=\"#000000\" stroke=\"#000000\" points=\"589.0774,-119.0031 580.1979,-124.7829 590.7437,-125.8019 589.0774,-119.0031\"/>\n<text text-anchor=\"middle\" x=\"676.8651\" y=\"-118.8\" font-family=\"Times,serif\" font-size=\"14.00\" fill=\"#000000\">1 </text>\n</g>\n<!-- \\(IF_F\\) -->\n<g id=\"node8\" class=\"node\">\n<title>\\(IF_F\\)</title>\n<ellipse fill=\"none\" stroke=\"#000000\" cx=\"971.8478\" cy=\"-56\" rx=\"35.1841\" ry=\"35.1841\"/>\n<ellipse fill=\"none\" stroke=\"#000000\" cx=\"971.8478\" cy=\"-56\" rx=\"39.194\" ry=\"39.194\"/>\n<text text-anchor=\"middle\" x=\"971.8478\" y=\"-52.3\" font-family=\"Times,serif\" font-size=\"14.00\" fill=\"#000000\">(IF_F)</text>\n</g>\n<!-- \\(S201_S01\\)&#45;&gt;\\(IF_F\\) -->\n<g id=\"edge13\" class=\"edge\">\n<title>\\(S201_S01\\)&#45;&gt;\\(IF_F\\)</title>\n<path fill=\"none\" stroke=\"#000000\" d=\"M877.2375,-111.9856C894.1068,-102.0032 912.8474,-90.9134 929.1697,-81.2547\"/>\n<polygon fill=\"#000000\" stroke=\"#000000\" points=\"931.1379,-84.157 937.9615,-76.0521 927.573,-78.1327 931.1379,-84.157\"/>\n<text text-anchor=\"middle\" x=\"908.7509\" y=\"-98.8\" font-family=\"Times,serif\" font-size=\"14.00\" fill=\"#000000\">0 </text>\n</g>\n<!-- \\(IF_I\\)&#45;&gt;\\(S0_S0\\) -->\n<g id=\"edge4\" class=\"edge\">\n<title>\\(IF_I\\)&#45;&gt;\\(S0_S0\\)</title>\n<path fill=\"none\" stroke=\"#000000\" d=\"M156.0678,-70C167.6123,-70 180.9151,-70 193.6962,-70\"/>\n<polygon fill=\"#000000\" stroke=\"#000000\" points=\"193.7911,-73.5001 203.791,-70 193.791,-66.5001 193.7911,-73.5001\"/>\n<text text-anchor=\"middle\" x=\"179.9942\" y=\"-73.8\" font-family=\"Times,serif\" font-size=\"14.00\" fill=\"#000000\">0 </text>\n</g>\n<!-- \\(IF_I\\)&#45;&gt;\\(IF_I\\) -->\n<g id=\"edge10\" class=\"edge\">\n<title>\\(IF_I\\)&#45;&gt;\\(IF_I\\)</title>\n<path fill=\"none\" stroke=\"#000000\" d=\"M114.1221,-101.5607C114.1221,-112.0809 117.2471,-120.4971 123.4971,-120.4971 127.501,-120.4971 130.2224,-117.0431 131.6613,-111.7946\"/>\n<polygon fill=\"#000000\" stroke=\"#000000\" points=\"135.1729,-111.9027 132.8721,-101.5607 128.2214,-111.0802 135.1729,-111.9027\"/>\n<text text-anchor=\"middle\" x=\"123.4971\" y=\"-124.2971\" font-family=\"Times,serif\" font-size=\"14.00\" fill=\"#000000\">1 </text>\n</g>\n<!-- \\(IF_F\\)&#45;&gt;\\(S0_S0\\) -->\n<g id=\"edge6\" class=\"edge\">\n<title>\\(IF_F\\)&#45;&gt;\\(S0_S0\\)</title>\n<path fill=\"none\" stroke=\"#000000\" d=\"M932.5241,-56C903.656,-56 863.4929,-56 828.2059,-56 388.4821,-56 388.4821,-56 388.4821,-56 358.4479,-56 325.0173,-59.1296 298.1158,-62.4294\"/>\n<polygon fill=\"#000000\" stroke=\"#000000\" points=\"297.6249,-58.9635 288.1459,-63.6962 298.5073,-65.9077 297.6249,-58.9635\"/>\n<text text-anchor=\"middle\" x=\"606.0692\" y=\"-59.8\" font-family=\"Times,serif\" font-size=\"14.00\" fill=\"#000000\">0 </text>\n</g>\n<!-- \\(IF_F\\)&#45;&gt;\\(IF_I\\) -->\n<g id=\"edge8\" class=\"edge\">\n<title>\\(IF_F\\)&#45;&gt;\\(IF_I\\)</title>\n<path fill=\"none\" stroke=\"#000000\" d=\"M938.7283,-34.9883C910.487,-19.0981 868.221,0 828.2059,0 246.2405,0 246.2405,0 246.2405,0 211.5688,0 177.7681,-21.3365 154.4448,-40.45\"/>\n<polygon fill=\"#000000\" stroke=\"#000000\" points=\"151.9991,-37.9353 146.6478,-47.0794 156.5334,-43.2683 151.9991,-37.9353\"/>\n<text text-anchor=\"middle\" x=\"535.2734\" y=\"-3.8\" font-family=\"Times,serif\" font-size=\"14.00\" fill=\"#000000\">1 </text>\n</g>\n</g>\n</svg>\n"
          },
          "metadata": {
            "tags": []
          },
          "execution_count": 8
        }
      ]
    },
    {
      "cell_type": "markdown",
      "metadata": {
        "id": "VU2hfENMCM0c",
        "colab_type": "text"
      },
      "source": [
        "# Problem-4 graded by LT\n",
        "\n",
        "<font size=\"4\">    \n",
        "    \n",
        "4.  Find out which states were eliminated in the Minimization Process. Explain why it was OK to leave these states out. Test the constructed machine using the template given to you. Finally use the Python \"filter\" function that filters out the accepted strings.\n",
        "    \n",
        "</font>"
      ]
    },
    {
      "cell_type": "markdown",
      "metadata": {
        "id": "wKye348DCM0f",
        "colab_type": "text"
      },
      "source": [
        "## Find out which states were eliminated"
      ]
    },
    {
      "cell_type": "code",
      "metadata": {
        "id": "aU2FV2pHCM0g",
        "colab_type": "code",
        "colab": {}
      },
      "source": [
        "# Hint: You can obtain the components of a DFA D by using the notation D[\"Q\"] where\n",
        "# D is a DFA created using the md2mc command. Basically, \"D\" is a dictionary and \n",
        "# D[\"Q\"] obtains the value of the key at \"Q\". See the lecture slides for Lec-3."
      ],
      "execution_count": null,
      "outputs": []
    },
    {
      "cell_type": "markdown",
      "metadata": {
        "id": "STzp6BMwrSoh",
        "colab_type": "text"
      },
      "source": [
        "From what I can tell the only state that was cut was (S010_I) since its components can just be split into other states while maintaining the definitions"
      ]
    },
    {
      "cell_type": "markdown",
      "metadata": {
        "id": "_LA3s_eHCM0m",
        "colab_type": "text"
      },
      "source": [
        "## Explain why it is OK to leave these states out\n",
        "\n",
        "A template to guide your answer is below."
      ]
    },
    {
      "cell_type": "markdown",
      "metadata": {
        "id": "9BXtEdMBCM0n",
        "colab_type": "text"
      },
      "source": [
        "<font size=\"4\"> \n",
        "... Your explanations here - a template of your answer is as follows ...\n",
        "    \n",
        "**This template tries to limit the number of cases you have to list**\n",
        " \n",
        " \n",
        " * I find that state SOMESTATE1 is present in DFA1 but SOMESTATE1 is absent in DFA2 \n",
        " \n",
        " \n",
        "   - I can obtain this info by doing DFA1[\"Q\"] - DFA2[\"Q\"]\n",
        "   - I can also eye-ball the diagrams and spot the missing state\n",
        "   - But I recall that in the diagram, a state may show up P_Q while in the DFA1[\"Q\"] - DFA2[\"Q\"] printout, it may show up as ('P','Q')\n",
        " \n",
        " \n",
        " \n",
        " * If there are multiple *SOMESTATE1* that are missing in DFA2, please pick the one that involves state letter 'I'  and call that the *SOMESTATE1* for the remaining questions BELOW\n",
        " \n",
        " \n",
        " **IMPORTANT CHANGE:** __Due to some non-reproducibility lurking in Jove, some people may not get a state containing \"I\". In that case, pick any one state that is missing, and answer the remaining questions.__\n",
        " \n",
        " * But I find that THIS STRING (pick the shortest string in numeric order) that reached SOMESTATE1 in DFA1 is now reaching state SOMESTATE2 in DFA2\n",
        " \n",
        " * Thus I conclude that state SOMESTATE1 and SOMESTATE2 are equivalent\n",
        " \n",
        " * This is further confirmed by the fact that (**here I am limiting your checks to 3 cases**)\n",
        "   - upon 0, SOMESTATE1 goes to THIS STATE while SOMESTATE2 goes to THIS STATE and they are  BOTH ACCEPTING / BOTH NON-ACCEPTING (pick on)\n",
        "   - upon 1, SOMESTATE1 goes to THIS STATE while SOMESTATE2 goes to THIS STATE and they are  BOTH ACCEPTING / BOTH NON-ACCEPTING (pick on)\n",
        "   upon 01, SOMESTATE1 goes to THIS STATE while SOMESTATE2 goes to THIS STATE and they are  BOTH ACCEPTING / BOTH NON-ACCEPTING (pick on)\n",
        " \n",
        " \n",
        "\n",
        " \n",
        " \n",
        "    \n",
        "</font>"
      ]
    },
    {
      "cell_type": "markdown",
      "metadata": {
        "id": "4YoGTDTYCM0p",
        "colab_type": "text"
      },
      "source": [
        "# Testing the machine"
      ]
    },
    {
      "cell_type": "code",
      "metadata": {
        "id": "pWORF8kmCM0r",
        "colab_type": "code",
        "colab": {
          "base_uri": "https://localhost:8080/",
          "height": 168
        },
        "outputId": "58d14a85-7741-4f07-87db-89a16f20c963"
      },
      "source": [
        "help(nthnumeric)"
      ],
      "execution_count": 9,
      "outputs": [
        {
          "output_type": "stream",
          "text": [
            "Help on function nthnumeric in module jove.LangDef:\n",
            "\n",
            "nthnumeric(N, S=['a', 'b'])\n",
            "    Assume S ('Sigma') is a 2-sized list of chars (default ['a','b']). \n",
            "    Produce the Nth string in numeric order, where N >= 0.\n",
            "    Idea : Given N, get b = floor(log_2(N+1)) - need that \n",
            "    many places; what to fill in the places is the binary \n",
            "    code for N - (2^b - 1) with 0 as S[0] and 1 as S[1].\n",
            "\n"
          ],
          "name": "stdout"
        }
      ]
    },
    {
      "cell_type": "markdown",
      "metadata": {
        "id": "g3polh5BCM0y",
        "colab_type": "text"
      },
      "source": [
        "## Test the constructed machine the \"direct\" way"
      ]
    },
    {
      "cell_type": "code",
      "metadata": {
        "id": "v-Sd_qRICM00",
        "colab_type": "code",
        "colab": {}
      },
      "source": [
        "TestList = [ nthnumeric(i, ['0','1']) for i in range(256) ]\n",
        "TestList2 = [ nthnumeric(i, ['0', '1']) for i in range(512)]"
      ],
      "execution_count": 14,
      "outputs": []
    },
    {
      "cell_type": "code",
      "metadata": {
        "id": "HJtTI_CKCM06",
        "colab_type": "code",
        "colab": {
          "base_uri": "https://localhost:8080/",
          "height": 1000
        },
        "outputId": "548af473-1c88-46ff-bd7d-5f0d25e0445c"
      },
      "source": [
        "TestList"
      ],
      "execution_count": 15,
      "outputs": [
        {
          "output_type": "execute_result",
          "data": {
            "text/plain": [
              "['',\n",
              " '0',\n",
              " '1',\n",
              " '00',\n",
              " '01',\n",
              " '10',\n",
              " '11',\n",
              " '000',\n",
              " '001',\n",
              " '010',\n",
              " '011',\n",
              " '100',\n",
              " '101',\n",
              " '110',\n",
              " '111',\n",
              " '0000',\n",
              " '0001',\n",
              " '0010',\n",
              " '0011',\n",
              " '0100',\n",
              " '0101',\n",
              " '0110',\n",
              " '0111',\n",
              " '1000',\n",
              " '1001',\n",
              " '1010',\n",
              " '1011',\n",
              " '1100',\n",
              " '1101',\n",
              " '1110',\n",
              " '1111',\n",
              " '00000',\n",
              " '00001',\n",
              " '00010',\n",
              " '00011',\n",
              " '00100',\n",
              " '00101',\n",
              " '00110',\n",
              " '00111',\n",
              " '01000',\n",
              " '01001',\n",
              " '01010',\n",
              " '01011',\n",
              " '01100',\n",
              " '01101',\n",
              " '01110',\n",
              " '01111',\n",
              " '10000',\n",
              " '10001',\n",
              " '10010',\n",
              " '10011',\n",
              " '10100',\n",
              " '10101',\n",
              " '10110',\n",
              " '10111',\n",
              " '11000',\n",
              " '11001',\n",
              " '11010',\n",
              " '11011',\n",
              " '11100',\n",
              " '11101',\n",
              " '11110',\n",
              " '11111',\n",
              " '000000',\n",
              " '000001',\n",
              " '000010',\n",
              " '000011',\n",
              " '000100',\n",
              " '000101',\n",
              " '000110',\n",
              " '000111',\n",
              " '001000',\n",
              " '001001',\n",
              " '001010',\n",
              " '001011',\n",
              " '001100',\n",
              " '001101',\n",
              " '001110',\n",
              " '001111',\n",
              " '010000',\n",
              " '010001',\n",
              " '010010',\n",
              " '010011',\n",
              " '010100',\n",
              " '010101',\n",
              " '010110',\n",
              " '010111',\n",
              " '011000',\n",
              " '011001',\n",
              " '011010',\n",
              " '011011',\n",
              " '011100',\n",
              " '011101',\n",
              " '011110',\n",
              " '011111',\n",
              " '100000',\n",
              " '100001',\n",
              " '100010',\n",
              " '100011',\n",
              " '100100',\n",
              " '100101',\n",
              " '100110',\n",
              " '100111',\n",
              " '101000',\n",
              " '101001',\n",
              " '101010',\n",
              " '101011',\n",
              " '101100',\n",
              " '101101',\n",
              " '101110',\n",
              " '101111',\n",
              " '110000',\n",
              " '110001',\n",
              " '110010',\n",
              " '110011',\n",
              " '110100',\n",
              " '110101',\n",
              " '110110',\n",
              " '110111',\n",
              " '111000',\n",
              " '111001',\n",
              " '111010',\n",
              " '111011',\n",
              " '111100',\n",
              " '111101',\n",
              " '111110',\n",
              " '111111',\n",
              " '0000000',\n",
              " '0000001',\n",
              " '0000010',\n",
              " '0000011',\n",
              " '0000100',\n",
              " '0000101',\n",
              " '0000110',\n",
              " '0000111',\n",
              " '0001000',\n",
              " '0001001',\n",
              " '0001010',\n",
              " '0001011',\n",
              " '0001100',\n",
              " '0001101',\n",
              " '0001110',\n",
              " '0001111',\n",
              " '0010000',\n",
              " '0010001',\n",
              " '0010010',\n",
              " '0010011',\n",
              " '0010100',\n",
              " '0010101',\n",
              " '0010110',\n",
              " '0010111',\n",
              " '0011000',\n",
              " '0011001',\n",
              " '0011010',\n",
              " '0011011',\n",
              " '0011100',\n",
              " '0011101',\n",
              " '0011110',\n",
              " '0011111',\n",
              " '0100000',\n",
              " '0100001',\n",
              " '0100010',\n",
              " '0100011',\n",
              " '0100100',\n",
              " '0100101',\n",
              " '0100110',\n",
              " '0100111',\n",
              " '0101000',\n",
              " '0101001',\n",
              " '0101010',\n",
              " '0101011',\n",
              " '0101100',\n",
              " '0101101',\n",
              " '0101110',\n",
              " '0101111',\n",
              " '0110000',\n",
              " '0110001',\n",
              " '0110010',\n",
              " '0110011',\n",
              " '0110100',\n",
              " '0110101',\n",
              " '0110110',\n",
              " '0110111',\n",
              " '0111000',\n",
              " '0111001',\n",
              " '0111010',\n",
              " '0111011',\n",
              " '0111100',\n",
              " '0111101',\n",
              " '0111110',\n",
              " '0111111',\n",
              " '1000000',\n",
              " '1000001',\n",
              " '1000010',\n",
              " '1000011',\n",
              " '1000100',\n",
              " '1000101',\n",
              " '1000110',\n",
              " '1000111',\n",
              " '1001000',\n",
              " '1001001',\n",
              " '1001010',\n",
              " '1001011',\n",
              " '1001100',\n",
              " '1001101',\n",
              " '1001110',\n",
              " '1001111',\n",
              " '1010000',\n",
              " '1010001',\n",
              " '1010010',\n",
              " '1010011',\n",
              " '1010100',\n",
              " '1010101',\n",
              " '1010110',\n",
              " '1010111',\n",
              " '1011000',\n",
              " '1011001',\n",
              " '1011010',\n",
              " '1011011',\n",
              " '1011100',\n",
              " '1011101',\n",
              " '1011110',\n",
              " '1011111',\n",
              " '1100000',\n",
              " '1100001',\n",
              " '1100010',\n",
              " '1100011',\n",
              " '1100100',\n",
              " '1100101',\n",
              " '1100110',\n",
              " '1100111',\n",
              " '1101000',\n",
              " '1101001',\n",
              " '1101010',\n",
              " '1101011',\n",
              " '1101100',\n",
              " '1101101',\n",
              " '1101110',\n",
              " '1101111',\n",
              " '1110000',\n",
              " '1110001',\n",
              " '1110010',\n",
              " '1110011',\n",
              " '1110100',\n",
              " '1110101',\n",
              " '1110110',\n",
              " '1110111',\n",
              " '1111000',\n",
              " '1111001',\n",
              " '1111010',\n",
              " '1111011',\n",
              " '1111100',\n",
              " '1111101',\n",
              " '1111110',\n",
              " '1111111',\n",
              " '00000000']"
            ]
          },
          "metadata": {
            "tags": []
          },
          "execution_count": 15
        }
      ]
    },
    {
      "cell_type": "code",
      "metadata": {
        "id": "1Xasgay8CM1E",
        "colab_type": "code",
        "colab": {}
      },
      "source": [
        "help(accepts_dfa)"
      ],
      "execution_count": null,
      "outputs": []
    },
    {
      "cell_type": "code",
      "metadata": {
        "id": "ASnneLVwCM1K",
        "colab_type": "code",
        "colab": {
          "base_uri": "https://localhost:8080/",
          "height": 1000
        },
        "outputId": "b417391f-621e-4cb7-db3f-e39fd77b5a6d"
      },
      "source": [
        "for test in TestList:\n",
        "    if accepts_dfa(min_Even010_Ends010, test):\n",
        "        print(\" min_Even010_Ends010 : accepts \", test)\n",
        "    else:\n",
        "        print(\" min_Even010_Ends010 : does not accept \", test)"
      ],
      "execution_count": 12,
      "outputs": [
        {
          "output_type": "stream",
          "text": [
            " min_Even010_Ends010 : does not accept  \n",
            " min_Even010_Ends010 : does not accept  0\n",
            " min_Even010_Ends010 : does not accept  1\n",
            " min_Even010_Ends010 : does not accept  00\n",
            " min_Even010_Ends010 : does not accept  01\n",
            " min_Even010_Ends010 : does not accept  10\n",
            " min_Even010_Ends010 : does not accept  11\n",
            " min_Even010_Ends010 : does not accept  000\n",
            " min_Even010_Ends010 : does not accept  001\n",
            " min_Even010_Ends010 : does not accept  010\n",
            " min_Even010_Ends010 : does not accept  011\n",
            " min_Even010_Ends010 : does not accept  100\n",
            " min_Even010_Ends010 : does not accept  101\n",
            " min_Even010_Ends010 : does not accept  110\n",
            " min_Even010_Ends010 : does not accept  111\n",
            " min_Even010_Ends010 : does not accept  0000\n",
            " min_Even010_Ends010 : does not accept  0001\n",
            " min_Even010_Ends010 : does not accept  0010\n",
            " min_Even010_Ends010 : does not accept  0011\n",
            " min_Even010_Ends010 : does not accept  0100\n",
            " min_Even010_Ends010 : does not accept  0101\n",
            " min_Even010_Ends010 : does not accept  0110\n",
            " min_Even010_Ends010 : does not accept  0111\n",
            " min_Even010_Ends010 : does not accept  1000\n",
            " min_Even010_Ends010 : does not accept  1001\n",
            " min_Even010_Ends010 : does not accept  1010\n",
            " min_Even010_Ends010 : does not accept  1011\n",
            " min_Even010_Ends010 : does not accept  1100\n",
            " min_Even010_Ends010 : does not accept  1101\n",
            " min_Even010_Ends010 : does not accept  1110\n",
            " min_Even010_Ends010 : does not accept  1111\n",
            " min_Even010_Ends010 : does not accept  00000\n",
            " min_Even010_Ends010 : does not accept  00001\n",
            " min_Even010_Ends010 : does not accept  00010\n",
            " min_Even010_Ends010 : does not accept  00011\n",
            " min_Even010_Ends010 : does not accept  00100\n",
            " min_Even010_Ends010 : does not accept  00101\n",
            " min_Even010_Ends010 : does not accept  00110\n",
            " min_Even010_Ends010 : does not accept  00111\n",
            " min_Even010_Ends010 : does not accept  01000\n",
            " min_Even010_Ends010 : does not accept  01001\n",
            " min_Even010_Ends010 : does not accept  01010\n",
            " min_Even010_Ends010 : does not accept  01011\n",
            " min_Even010_Ends010 : does not accept  01100\n",
            " min_Even010_Ends010 : does not accept  01101\n",
            " min_Even010_Ends010 : does not accept  01110\n",
            " min_Even010_Ends010 : does not accept  01111\n",
            " min_Even010_Ends010 : does not accept  10000\n",
            " min_Even010_Ends010 : does not accept  10001\n",
            " min_Even010_Ends010 : does not accept  10010\n",
            " min_Even010_Ends010 : does not accept  10011\n",
            " min_Even010_Ends010 : does not accept  10100\n",
            " min_Even010_Ends010 : does not accept  10101\n",
            " min_Even010_Ends010 : does not accept  10110\n",
            " min_Even010_Ends010 : does not accept  10111\n",
            " min_Even010_Ends010 : does not accept  11000\n",
            " min_Even010_Ends010 : does not accept  11001\n",
            " min_Even010_Ends010 : does not accept  11010\n",
            " min_Even010_Ends010 : does not accept  11011\n",
            " min_Even010_Ends010 : does not accept  11100\n",
            " min_Even010_Ends010 : does not accept  11101\n",
            " min_Even010_Ends010 : does not accept  11110\n",
            " min_Even010_Ends010 : does not accept  11111\n",
            " min_Even010_Ends010 : does not accept  000000\n",
            " min_Even010_Ends010 : does not accept  000001\n",
            " min_Even010_Ends010 : does not accept  000010\n",
            " min_Even010_Ends010 : does not accept  000011\n",
            " min_Even010_Ends010 : does not accept  000100\n",
            " min_Even010_Ends010 : does not accept  000101\n",
            " min_Even010_Ends010 : does not accept  000110\n",
            " min_Even010_Ends010 : does not accept  000111\n",
            " min_Even010_Ends010 : does not accept  001000\n",
            " min_Even010_Ends010 : does not accept  001001\n",
            " min_Even010_Ends010 : does not accept  001010\n",
            " min_Even010_Ends010 : does not accept  001011\n",
            " min_Even010_Ends010 : does not accept  001100\n",
            " min_Even010_Ends010 : does not accept  001101\n",
            " min_Even010_Ends010 : does not accept  001110\n",
            " min_Even010_Ends010 : does not accept  001111\n",
            " min_Even010_Ends010 : does not accept  010000\n",
            " min_Even010_Ends010 : does not accept  010001\n",
            " min_Even010_Ends010 : accepts  010010\n",
            " min_Even010_Ends010 : does not accept  010011\n",
            " min_Even010_Ends010 : does not accept  010100\n",
            " min_Even010_Ends010 : does not accept  010101\n",
            " min_Even010_Ends010 : does not accept  010110\n",
            " min_Even010_Ends010 : does not accept  010111\n",
            " min_Even010_Ends010 : does not accept  011000\n",
            " min_Even010_Ends010 : does not accept  011001\n",
            " min_Even010_Ends010 : does not accept  011010\n",
            " min_Even010_Ends010 : does not accept  011011\n",
            " min_Even010_Ends010 : does not accept  011100\n",
            " min_Even010_Ends010 : does not accept  011101\n",
            " min_Even010_Ends010 : does not accept  011110\n",
            " min_Even010_Ends010 : does not accept  011111\n",
            " min_Even010_Ends010 : does not accept  100000\n",
            " min_Even010_Ends010 : does not accept  100001\n",
            " min_Even010_Ends010 : does not accept  100010\n",
            " min_Even010_Ends010 : does not accept  100011\n",
            " min_Even010_Ends010 : does not accept  100100\n",
            " min_Even010_Ends010 : does not accept  100101\n",
            " min_Even010_Ends010 : does not accept  100110\n",
            " min_Even010_Ends010 : does not accept  100111\n",
            " min_Even010_Ends010 : does not accept  101000\n",
            " min_Even010_Ends010 : does not accept  101001\n",
            " min_Even010_Ends010 : does not accept  101010\n",
            " min_Even010_Ends010 : does not accept  101011\n",
            " min_Even010_Ends010 : does not accept  101100\n",
            " min_Even010_Ends010 : does not accept  101101\n",
            " min_Even010_Ends010 : does not accept  101110\n",
            " min_Even010_Ends010 : does not accept  101111\n",
            " min_Even010_Ends010 : does not accept  110000\n",
            " min_Even010_Ends010 : does not accept  110001\n",
            " min_Even010_Ends010 : does not accept  110010\n",
            " min_Even010_Ends010 : does not accept  110011\n",
            " min_Even010_Ends010 : does not accept  110100\n",
            " min_Even010_Ends010 : does not accept  110101\n",
            " min_Even010_Ends010 : does not accept  110110\n",
            " min_Even010_Ends010 : does not accept  110111\n",
            " min_Even010_Ends010 : does not accept  111000\n",
            " min_Even010_Ends010 : does not accept  111001\n",
            " min_Even010_Ends010 : does not accept  111010\n",
            " min_Even010_Ends010 : does not accept  111011\n",
            " min_Even010_Ends010 : does not accept  111100\n",
            " min_Even010_Ends010 : does not accept  111101\n",
            " min_Even010_Ends010 : does not accept  111110\n",
            " min_Even010_Ends010 : does not accept  111111\n",
            " min_Even010_Ends010 : does not accept  0000000\n",
            " min_Even010_Ends010 : does not accept  0000001\n",
            " min_Even010_Ends010 : does not accept  0000010\n",
            " min_Even010_Ends010 : does not accept  0000011\n",
            " min_Even010_Ends010 : does not accept  0000100\n",
            " min_Even010_Ends010 : does not accept  0000101\n",
            " min_Even010_Ends010 : does not accept  0000110\n",
            " min_Even010_Ends010 : does not accept  0000111\n",
            " min_Even010_Ends010 : does not accept  0001000\n",
            " min_Even010_Ends010 : does not accept  0001001\n",
            " min_Even010_Ends010 : does not accept  0001010\n",
            " min_Even010_Ends010 : does not accept  0001011\n",
            " min_Even010_Ends010 : does not accept  0001100\n",
            " min_Even010_Ends010 : does not accept  0001101\n",
            " min_Even010_Ends010 : does not accept  0001110\n",
            " min_Even010_Ends010 : does not accept  0001111\n",
            " min_Even010_Ends010 : does not accept  0010000\n",
            " min_Even010_Ends010 : does not accept  0010001\n",
            " min_Even010_Ends010 : accepts  0010010\n",
            " min_Even010_Ends010 : does not accept  0010011\n",
            " min_Even010_Ends010 : does not accept  0010100\n",
            " min_Even010_Ends010 : does not accept  0010101\n",
            " min_Even010_Ends010 : does not accept  0010110\n",
            " min_Even010_Ends010 : does not accept  0010111\n",
            " min_Even010_Ends010 : does not accept  0011000\n",
            " min_Even010_Ends010 : does not accept  0011001\n",
            " min_Even010_Ends010 : does not accept  0011010\n",
            " min_Even010_Ends010 : does not accept  0011011\n",
            " min_Even010_Ends010 : does not accept  0011100\n",
            " min_Even010_Ends010 : does not accept  0011101\n",
            " min_Even010_Ends010 : does not accept  0011110\n",
            " min_Even010_Ends010 : does not accept  0011111\n",
            " min_Even010_Ends010 : does not accept  0100000\n",
            " min_Even010_Ends010 : does not accept  0100001\n",
            " min_Even010_Ends010 : accepts  0100010\n",
            " min_Even010_Ends010 : does not accept  0100011\n",
            " min_Even010_Ends010 : does not accept  0100100\n",
            " min_Even010_Ends010 : does not accept  0100101\n",
            " min_Even010_Ends010 : does not accept  0100110\n",
            " min_Even010_Ends010 : does not accept  0100111\n",
            " min_Even010_Ends010 : does not accept  0101000\n",
            " min_Even010_Ends010 : does not accept  0101001\n",
            " min_Even010_Ends010 : accepts  0101010\n",
            " min_Even010_Ends010 : does not accept  0101011\n",
            " min_Even010_Ends010 : does not accept  0101100\n",
            " min_Even010_Ends010 : does not accept  0101101\n",
            " min_Even010_Ends010 : does not accept  0101110\n",
            " min_Even010_Ends010 : does not accept  0101111\n",
            " min_Even010_Ends010 : does not accept  0110000\n",
            " min_Even010_Ends010 : does not accept  0110001\n",
            " min_Even010_Ends010 : does not accept  0110010\n",
            " min_Even010_Ends010 : does not accept  0110011\n",
            " min_Even010_Ends010 : does not accept  0110100\n",
            " min_Even010_Ends010 : does not accept  0110101\n",
            " min_Even010_Ends010 : does not accept  0110110\n",
            " min_Even010_Ends010 : does not accept  0110111\n",
            " min_Even010_Ends010 : does not accept  0111000\n",
            " min_Even010_Ends010 : does not accept  0111001\n",
            " min_Even010_Ends010 : does not accept  0111010\n",
            " min_Even010_Ends010 : does not accept  0111011\n",
            " min_Even010_Ends010 : does not accept  0111100\n",
            " min_Even010_Ends010 : does not accept  0111101\n",
            " min_Even010_Ends010 : does not accept  0111110\n",
            " min_Even010_Ends010 : does not accept  0111111\n",
            " min_Even010_Ends010 : does not accept  1000000\n",
            " min_Even010_Ends010 : does not accept  1000001\n",
            " min_Even010_Ends010 : does not accept  1000010\n",
            " min_Even010_Ends010 : does not accept  1000011\n",
            " min_Even010_Ends010 : does not accept  1000100\n",
            " min_Even010_Ends010 : does not accept  1000101\n",
            " min_Even010_Ends010 : does not accept  1000110\n",
            " min_Even010_Ends010 : does not accept  1000111\n",
            " min_Even010_Ends010 : does not accept  1001000\n",
            " min_Even010_Ends010 : does not accept  1001001\n",
            " min_Even010_Ends010 : does not accept  1001010\n",
            " min_Even010_Ends010 : does not accept  1001011\n",
            " min_Even010_Ends010 : does not accept  1001100\n",
            " min_Even010_Ends010 : does not accept  1001101\n",
            " min_Even010_Ends010 : does not accept  1001110\n",
            " min_Even010_Ends010 : does not accept  1001111\n",
            " min_Even010_Ends010 : does not accept  1010000\n",
            " min_Even010_Ends010 : does not accept  1010001\n",
            " min_Even010_Ends010 : accepts  1010010\n",
            " min_Even010_Ends010 : does not accept  1010011\n",
            " min_Even010_Ends010 : does not accept  1010100\n",
            " min_Even010_Ends010 : does not accept  1010101\n",
            " min_Even010_Ends010 : does not accept  1010110\n",
            " min_Even010_Ends010 : does not accept  1010111\n",
            " min_Even010_Ends010 : does not accept  1011000\n",
            " min_Even010_Ends010 : does not accept  1011001\n",
            " min_Even010_Ends010 : does not accept  1011010\n",
            " min_Even010_Ends010 : does not accept  1011011\n",
            " min_Even010_Ends010 : does not accept  1011100\n",
            " min_Even010_Ends010 : does not accept  1011101\n",
            " min_Even010_Ends010 : does not accept  1011110\n",
            " min_Even010_Ends010 : does not accept  1011111\n",
            " min_Even010_Ends010 : does not accept  1100000\n",
            " min_Even010_Ends010 : does not accept  1100001\n",
            " min_Even010_Ends010 : does not accept  1100010\n",
            " min_Even010_Ends010 : does not accept  1100011\n",
            " min_Even010_Ends010 : does not accept  1100100\n",
            " min_Even010_Ends010 : does not accept  1100101\n",
            " min_Even010_Ends010 : does not accept  1100110\n",
            " min_Even010_Ends010 : does not accept  1100111\n",
            " min_Even010_Ends010 : does not accept  1101000\n",
            " min_Even010_Ends010 : does not accept  1101001\n",
            " min_Even010_Ends010 : does not accept  1101010\n",
            " min_Even010_Ends010 : does not accept  1101011\n",
            " min_Even010_Ends010 : does not accept  1101100\n",
            " min_Even010_Ends010 : does not accept  1101101\n",
            " min_Even010_Ends010 : does not accept  1101110\n",
            " min_Even010_Ends010 : does not accept  1101111\n",
            " min_Even010_Ends010 : does not accept  1110000\n",
            " min_Even010_Ends010 : does not accept  1110001\n",
            " min_Even010_Ends010 : does not accept  1110010\n",
            " min_Even010_Ends010 : does not accept  1110011\n",
            " min_Even010_Ends010 : does not accept  1110100\n",
            " min_Even010_Ends010 : does not accept  1110101\n",
            " min_Even010_Ends010 : does not accept  1110110\n",
            " min_Even010_Ends010 : does not accept  1110111\n",
            " min_Even010_Ends010 : does not accept  1111000\n",
            " min_Even010_Ends010 : does not accept  1111001\n",
            " min_Even010_Ends010 : does not accept  1111010\n",
            " min_Even010_Ends010 : does not accept  1111011\n",
            " min_Even010_Ends010 : does not accept  1111100\n",
            " min_Even010_Ends010 : does not accept  1111101\n",
            " min_Even010_Ends010 : does not accept  1111110\n",
            " min_Even010_Ends010 : does not accept  1111111\n",
            " min_Even010_Ends010 : does not accept  00000000\n"
          ],
          "name": "stdout"
        }
      ]
    },
    {
      "cell_type": "markdown",
      "metadata": {
        "id": "s7ssRXhVCM1S",
        "colab_type": "text"
      },
      "source": [
        "## Use Python's \"filter\" function to filter out the accepted strings directly"
      ]
    },
    {
      "cell_type": "code",
      "metadata": {
        "scrolled": true,
        "id": "HoBknaw_CM1T",
        "colab_type": "code",
        "colab": {
          "base_uri": "https://localhost:8080/",
          "height": 34
        },
        "outputId": "c1b8c244-e932-4d3e-ae2e-d6d444319702"
      },
      "source": [
        "list(filter(lambda x: accepts_dfa(min_Even010_Ends010, x), TestList))"
      ],
      "execution_count": 13,
      "outputs": [
        {
          "output_type": "execute_result",
          "data": {
            "text/plain": [
              "['010010', '0010010', '0100010', '0101010', '1010010']"
            ]
          },
          "metadata": {
            "tags": []
          },
          "execution_count": 13
        }
      ]
    },
    {
      "cell_type": "markdown",
      "metadata": {
        "id": "q6BpfrDeCM1Z",
        "colab_type": "text"
      },
      "source": [
        "## Doubled the testing range; now finding at least ten strings !!"
      ]
    },
    {
      "cell_type": "code",
      "metadata": {
        "id": "s7NcphPbCM1a",
        "colab_type": "code",
        "colab": {
          "base_uri": "https://localhost:8080/",
          "height": 269
        },
        "outputId": "5f7cc590-b43d-4310-978a-00d886ff33b9"
      },
      "source": [
        "list(filter(lambda x: accepts_dfa(min_Even010_Ends010, x), TestList2))"
      ],
      "execution_count": 16,
      "outputs": [
        {
          "output_type": "execute_result",
          "data": {
            "text/plain": [
              "['010010',\n",
              " '0010010',\n",
              " '0100010',\n",
              " '0101010',\n",
              " '1010010',\n",
              " '00010010',\n",
              " '00100010',\n",
              " '00101010',\n",
              " '01000010',\n",
              " '01010010',\n",
              " '01011010',\n",
              " '10010010',\n",
              " '10100010',\n",
              " '10101010',\n",
              " '11010010']"
            ]
          },
          "metadata": {
            "tags": []
          },
          "execution_count": 16
        }
      ]
    },
    {
      "cell_type": "markdown",
      "metadata": {
        "id": "uWcPc0C-CM1k",
        "colab_type": "text"
      },
      "source": [
        "# END"
      ]
    }
  ]
}
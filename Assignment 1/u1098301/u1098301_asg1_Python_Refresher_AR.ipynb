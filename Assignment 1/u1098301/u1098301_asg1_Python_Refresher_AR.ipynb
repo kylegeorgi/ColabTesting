{
  "nbformat": 4,
  "nbformat_minor": 0,
  "metadata": {
    "kernelspec": {
      "display_name": "Python 3",
      "language": "python",
      "name": "python3"
    },
    "language_info": {
      "codemirror_mode": {
        "name": "ipython",
        "version": 3
      },
      "file_extension": ".py",
      "mimetype": "text/x-python",
      "name": "python",
      "nbconvert_exporter": "python",
      "pygments_lexer": "ipython3",
      "version": "3.7.3"
    },
    "colab": {
      "name": "u0000000_asg1_Python_Refresher_AR.ipynb",
      "provenance": []
    }
  },
  "cells": [
    {
      "cell_type": "markdown",
      "metadata": {
        "id": "SPqT1FN3uA2y",
        "colab_type": "text"
      },
      "source": [
        "# First let's import, then look for the assignment below"
      ]
    },
    {
      "cell_type": "code",
      "metadata": {
        "id": "6DbWGCIhuA21",
        "colab_type": "code",
        "colab": {
          "base_uri": "https://localhost:8080/",
          "height": 487
        },
        "outputId": "79a2bb68-c2b6-4c07-9228-c12e6252c86b"
      },
      "source": [
        "#~~~~~~~~~~~~~~~~~~~~~~~~~~~~~~~~~~~~~~~~~~~~~~~~~~~~~~~\n",
        "import sys\n",
        "\n",
        "# -- Detect if in Own Install or in Colab\n",
        "try:\n",
        "    import google.colab\n",
        "    OWN_INSTALL = False\n",
        "except:\n",
        "    OWN_INSTALL = True\n",
        "    \n",
        "if OWN_INSTALL:\n",
        "    \n",
        "  #---- Leave these definitions ON if running on laptop\n",
        "  #---- Else turn OFF by putting them between ''' ... '''\n",
        "\n",
        "  sys.path[0:0] = ['../../../../..',  '../../../../../3rdparty',  \n",
        "                   '../../../..',  '../../../../3rdparty',  \n",
        "                   '../../..',     '../../../3rdparty', \n",
        "                   '../..',        '../../3rdparty',\n",
        "                   '..',           '../3rdparty' ]\n",
        "\n",
        "else: # In colab\n",
        "  ! if [ ! -d Jove ]; then git clone https://github.com/ganeshutah/Jove Jove; fi\n",
        "  sys.path.append('./Jove')\n",
        "  sys.path.append('./Jove/jove')\n",
        "\n",
        "# -- common imports --\n",
        "from jove.LangDef   import *\n",
        "#~~~~~~~~~~~~~~~~~~~~~~~~~~~~~~~~~~~~~~~~~~~~~~~~~~~~~~~"
      ],
      "execution_count": 1,
      "outputs": [
        {
          "output_type": "stream",
          "text": [
            "Cloning into 'Jove'...\n",
            "remote: Enumerating objects: 48, done.\u001b[K\n",
            "remote: Counting objects: 100% (48/48), done.\u001b[K\n",
            "remote: Compressing objects: 100% (36/36), done.\u001b[K\n",
            "remote: Total 3621 (delta 25), reused 30 (delta 10), pack-reused 3573\u001b[K\n",
            "Receiving objects: 100% (3621/3621), 6.56 MiB | 23.75 MiB/s, done.\n",
            "Resolving deltas: 100% (2324/2324), done.\n",
            "You may use any of these help commands:\n",
            "help(lphi)\n",
            "help(lunit)\n",
            "help(lcat)\n",
            "help(lexp)\n",
            "help(lunion)\n",
            "help(lstar)\n",
            "help(srev)\n",
            "help(lrev)\n",
            "help(shomo)\n",
            "help(lhomo)\n",
            "help(powset)\n",
            "help(lint)\n",
            "help(lsymdiff)\n",
            "help(lminus)\n",
            "help(lissubset)\n",
            "help(lissuperset)\n",
            "help(lcomplem)\n",
            "help(product)\n",
            "help(nthnumeric)\n",
            "\n"
          ],
          "name": "stdout"
        }
      ]
    },
    {
      "cell_type": "markdown",
      "metadata": {
        "id": "ZILS70sCuA2-",
        "colab_type": "text"
      },
      "source": [
        "# Assignment-1 Problem-1 on Python Basics  \n",
        "\n",
        "## Graded by Archit Rathore (AR)\n",
        "\n",
        "### BEFORE YOU SUBMIT THIS FILE, PLEASE RENAME THIS FILE BY REPLACING THE 0000000 IN THE FILE NAME WITH YOUR CORRECT UNID. KEEP THE \"u\" AT THE BEGINNING."
      ]
    },
    {
      "cell_type": "markdown",
      "metadata": {
        "id": "BHGmZVfjuA3B",
        "colab_type": "text"
      },
      "source": [
        "## Define a regular language via Python's set builder (set comprehension) syntax\n",
        "\n",
        "<font size=\"4\"> \n",
        "    \n",
        "Recall from Chapter-1 that sets of strings of the form \"any number of $a$'s followed by any number of $b$'s followed by any number of $c$'s are regular languages.\n",
        "\n",
        "* Here, for instance, is a regular language\n",
        "    \n",
        "    $$ \\{ a^i b^j c^k \\;:\\; i,j,k \\ge 0 \\}$$\n",
        "  \n",
        "\n",
        "**Task for you**:\n",
        "\n",
        "* Define the above set in Python, limiting $i,j,k$ to be in $\\{0, \\ldots, 4\\}$.\n",
        "\n",
        "**IMPORTANT NOTE**: ALL finite sets are regular. Thus by truncating the set to a finite size, we always get a regular language. The purpose of truncation is ONLY to make sure that the printing stops. What we are really referring to as a regular language of interest is the mathematical language\n",
        "\n",
        "   $$ \\{ a^i b^j c^k \\;:\\; i,j,k \\ge 0 \\}$$\n",
        "    \n",
        "    \n",
        "</font>  "
      ]
    },
    {
      "cell_type": "code",
      "metadata": {
        "id": "wmTSgVQzuA3C",
        "colab_type": "code",
        "colab": {
          "base_uri": "https://localhost:8080/",
          "height": 54
        },
        "outputId": "e7fd52ae-0657-44f3-bccb-f9dfa90a2ce0"
      },
      "source": [
        "# The above regular language truncated to a small size, below\n",
        "A_reg_Language = { \"a\"*i + \"b\"*j + \"c\"*k for i in range(4) for j in range(4) for k in range(4)}\n",
        "\n",
        "# Print its contents\n",
        "print(A_reg_Language)"
      ],
      "execution_count": 8,
      "outputs": [
        {
          "output_type": "stream",
          "text": [
            "{'', 'aa', 'aaabccc', 'aabbccc', 'ccc', 'acc', 'aabbbccc', 'aabbbc', 'abbcc', 'aabbb', 'abcc', 'aabbc', 'bbcc', 'aaabbbcc', 'ab', 'aac', 'aaab', 'aaabbc', 'bbbc', 'aabbbcc', 'aaabb', 'aacc', 'aaa', 'b', 'aabcc', 'bbc', 'aaabbccc', 'aaaccc', 'bbb', 'aaabbb', 'bbbcc', 'aaacc', 'c', 'abccc', 'abbbc', 'aabb', 'abb', 'aaabbcc', 'a', 'bb', 'aabbcc', 'aabc', 'abbc', 'aaabc', 'abc', 'aaccc', 'ac', 'bcc', 'bbccc', 'accc', 'abbccc', 'aaabbbccc', 'bc', 'aab', 'aabccc', 'aaabcc', 'aaac', 'cc', 'abbbccc', 'bbbccc', 'bccc', 'abbbcc', 'aaabbbc', 'abbb'}\n"
          ],
          "name": "stdout"
        }
      ]
    },
    {
      "cell_type": "markdown",
      "metadata": {
        "id": "k5ztSliXuA3J",
        "colab_type": "text"
      },
      "source": [
        "## Define a context-free language via Python's set builder (set comprehension) syntax\n",
        "\n",
        "<font size=\"4\"> \n",
        "    \n",
        "Recall from Chapter-1 that sets of strings of the form \"any number of $a$'s followed by the same number of $b$'s and $c$'s is context-free.\n",
        "    \n",
        "* Here, for instance, is a context-free language\n",
        "    \n",
        "    $$ \\{ a^i b^j c^j \\;:\\; i,j \\ge 0 \\}$$\n",
        "     \n",
        "\n",
        "**Task for you**:\n",
        "\n",
        "* Define the above set in Python, again limiting $i,j,k$ to be in $\\{0, \\ldots, 4\\}$.\n",
        "\n",
        "**IMPORTANT NOTE**: ALL finite sets are regular. Thus by truncating the set to a finite size, we always get a regular language. The purpose of truncation is ONLY to make sure that the printing stops. What we are really referring to as a **context-free language** of interest is the mathematical language\n",
        "\n",
        "   $$ \\{ a^i b^j c^j \\;:\\; i,j \\ge 0 \\}$$\n",
        "    \n",
        "    \n",
        "</font>  "
      ]
    },
    {
      "cell_type": "code",
      "metadata": {
        "id": "yJwkPdn0uA3K",
        "colab_type": "code",
        "colab": {
          "base_uri": "https://localhost:8080/",
          "height": 286
        },
        "outputId": "41ad8714-45ca-48e3-f4ec-131c0070e4e6"
      },
      "source": [
        "# Your Python definition of a context-free language, below\n",
        "A_context_free_language = { 'a'*i + 'b'*j + 'c'*j for i in range(4) for j in range(4)}\n",
        "\n",
        "# Print its contents\n",
        "A_context_free_language "
      ],
      "execution_count": 9,
      "outputs": [
        {
          "output_type": "execute_result",
          "data": {
            "text/plain": [
              "{'',\n",
              " 'a',\n",
              " 'aa',\n",
              " 'aaa',\n",
              " 'aaabbbccc',\n",
              " 'aaabbcc',\n",
              " 'aaabc',\n",
              " 'aabbbccc',\n",
              " 'aabbcc',\n",
              " 'aabc',\n",
              " 'abbbccc',\n",
              " 'abbcc',\n",
              " 'abc',\n",
              " 'bbbccc',\n",
              " 'bbcc',\n",
              " 'bc'}"
            ]
          },
          "metadata": {
            "tags": []
          },
          "execution_count": 9
        }
      ]
    },
    {
      "cell_type": "markdown",
      "metadata": {
        "id": "nqm-x6e8uA3R",
        "colab_type": "text"
      },
      "source": [
        "## Define another context-free language  \n",
        "\n",
        "<font size=\"4\"> \n",
        "    \n",
        "In Chapter 4, we will study the Pumping Lemma to argue that this language is not context-free:\n",
        "    $$L_{if} = \\{ a^i b^j c^k \\;:\\; {\\rm if}\\; (i=2)\\; {\\rm then}\\; (j=k) \\}$$\n",
        "    \n",
        "\n",
        "\n",
        "**Task for you**:\n",
        "\n",
        "* Define $L_{if}$ in Python, again limiting $i,j,k$ to be in $\\{0, \\ldots, 4\\}$.\n",
        "* List all the strings where the condition $(i=2)$ is met. How many such strings are there?\n",
        "    \n",
        "**IMPORTANT NOTE**: ALL finite sets are regular. Thus by truncating the set to a finite size, we always get a regular language. The purpose of truncation is ONLY to make sure that the printing stops. What we are really referring to as a **context-free language** of interest is the mathematical language\n",
        "\n",
        "   \n",
        "  $$L_{if} = \\{ a^i b^j c^k \\;:\\; {\\rm if}\\; (i=2)\\; {\\rm then}\\; (j=k) \\}$$\n",
        "    \n",
        "    \n",
        "</font>  "
      ]
    },
    {
      "cell_type": "code",
      "metadata": {
        "id": "XeaE17fyuA3S",
        "colab_type": "code",
        "colab": {
          "base_uri": "https://localhost:8080/",
          "height": 34
        },
        "outputId": "a31eb6a9-0f62-430b-81fd-c8d6723db06d"
      },
      "source": [
        " \n",
        "# Your Python definition of the language Lif below\n",
        "Lif =  { \"a\"*i + \"b\"*j + \"c\"*k for i in range(4) for j in range(4) for k in range(4) if j==k if i == 2}\n",
        "\n",
        "# print Lif\n",
        "\n",
        "print(Lif)\n"
      ],
      "execution_count": 59,
      "outputs": [
        {
          "output_type": "stream",
          "text": [
            "{'aa', 'aabc', 'aabbcc', 'aabbbccc'}\n"
          ],
          "name": "stdout"
        }
      ]
    },
    {
      "cell_type": "markdown",
      "metadata": {
        "id": "NY5FFbZ8uA3b",
        "colab_type": "text"
      },
      "source": [
        "# Number of strings where (i=2) is met, and which are they?\n",
        "\n",
        "There are 4 strings where (i=2) is met\n",
        "\n",
        "# The strings where i = 2 is met are these:\n",
        "\n",
        "'aa',\n",
        "'aabc',\n",
        "'aabbcc',\n",
        "'aabbbccc'\n",
        " "
      ]
    },
    {
      "cell_type": "markdown",
      "metadata": {
        "id": "93jkHd5luA3e",
        "colab_type": "text"
      },
      "source": [
        "# END"
      ]
    }
  ]
}
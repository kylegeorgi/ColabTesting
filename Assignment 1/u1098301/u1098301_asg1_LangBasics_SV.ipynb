{
  "nbformat": 4,
  "nbformat_minor": 0,
  "metadata": {
    "kernelspec": {
      "display_name": "Python 3",
      "language": "python",
      "name": "python3"
    },
    "language_info": {
      "codemirror_mode": {
        "name": "ipython",
        "version": 3
      },
      "file_extension": ".py",
      "mimetype": "text/x-python",
      "name": "python",
      "nbconvert_exporter": "python",
      "pygments_lexer": "ipython3",
      "version": "3.7.3"
    },
    "colab": {
      "name": "u0000000_asg1_LangBasics_SV.ipynb",
      "provenance": []
    }
  },
  "cells": [
    {
      "cell_type": "markdown",
      "metadata": {
        "id": "KUEeeLdH-etr",
        "colab_type": "text"
      },
      "source": [
        "# First let's import, then look for the assignment below"
      ]
    },
    {
      "cell_type": "code",
      "metadata": {
        "id": "w8v2Fvbr-etv",
        "colab_type": "code",
        "colab": {
          "base_uri": "https://localhost:8080/",
          "height": 487
        },
        "outputId": "da58964d-2211-43ad-9840-9f1d518c0fcf"
      },
      "source": [
        "#~~~~~~~~~~~~~~~~~~~~~~~~~~~~~~~~~~~~~~~~~~~~~~~~~~~~~~~\n",
        "import sys\n",
        "\n",
        "# -- Detect if in Own Install or in Colab\n",
        "try:\n",
        "    import google.colab\n",
        "    OWN_INSTALL = False\n",
        "except:\n",
        "    OWN_INSTALL = True\n",
        "    \n",
        "if OWN_INSTALL:\n",
        "    \n",
        "  #---- Leave these definitions ON if running on laptop\n",
        "  #---- Else turn OFF by putting them between ''' ... '''\n",
        "\n",
        "  sys.path[0:0] = ['../../../../..',  '../../../../../3rdparty',  \n",
        "                   '../../../..',  '../../../../3rdparty',  \n",
        "                   '../../..',     '../../../3rdparty', \n",
        "                   '../..',        '../../3rdparty',\n",
        "                   '..',           '../3rdparty' ]\n",
        "\n",
        "else: # In colab\n",
        "  ! if [ ! -d Jove ]; then git clone https://github.com/ganeshutah/Jove Jove; fi\n",
        "  sys.path.append('./Jove')\n",
        "  sys.path.append('./Jove/jove')\n",
        "\n",
        "# -- common imports --\n",
        "from jove.LangDef   import *\n",
        "#~~~~~~~~~~~~~~~~~~~~~~~~~~~~~~~~~~~~~~~~~~~~~~~~~~~~~~~"
      ],
      "execution_count": 1,
      "outputs": [
        {
          "output_type": "stream",
          "text": [
            "Cloning into 'Jove'...\n",
            "remote: Enumerating objects: 48, done.\u001b[K\n",
            "remote: Counting objects: 100% (48/48), done.\u001b[K\n",
            "remote: Compressing objects: 100% (36/36), done.\u001b[K\n",
            "remote: Total 3621 (delta 25), reused 30 (delta 10), pack-reused 3573\u001b[K\n",
            "Receiving objects: 100% (3621/3621), 6.56 MiB | 4.60 MiB/s, done.\n",
            "Resolving deltas: 100% (2324/2324), done.\n",
            "You may use any of these help commands:\n",
            "help(lphi)\n",
            "help(lunit)\n",
            "help(lcat)\n",
            "help(lexp)\n",
            "help(lunion)\n",
            "help(lstar)\n",
            "help(srev)\n",
            "help(lrev)\n",
            "help(shomo)\n",
            "help(lhomo)\n",
            "help(powset)\n",
            "help(lint)\n",
            "help(lsymdiff)\n",
            "help(lminus)\n",
            "help(lissubset)\n",
            "help(lissuperset)\n",
            "help(lcomplem)\n",
            "help(product)\n",
            "help(nthnumeric)\n",
            "\n"
          ],
          "name": "stdout"
        }
      ]
    },
    {
      "cell_type": "markdown",
      "metadata": {
        "id": "aLTwIcHH-et8",
        "colab_type": "text"
      },
      "source": [
        "# Assignment-1 Problem-2 on Language Basics\n",
        "\n",
        "## Graded by Shashank Vadlamani (SV)\n",
        "\n",
        "### BEFORE YOU SUBMIT THIS FILE, PLEASE RENAME THIS FILE BY REPLACING THE 0000000 IN THE FILE NAME WITH YOUR CORRECT UNID. KEEP THE \"u\" AT THE BEGINNING.\n",
        "\n",
        "\n",
        " <font size=\"4\"> \n",
        "\n",
        "This problem helps you review the basics of languages, symbols, strings, concatenation, etc. It presents the material in the form of puzzles.  \n",
        "    \n",
        "Tasks for you:\n",
        " \n",
        "</font>"
      ]
    },
    {
      "cell_type": "markdown",
      "metadata": {
        "id": "-sj_jjte-et-",
        "colab_type": "text"
      },
      "source": [
        "<font size=\"4\"> \n",
        "\n",
        " \n",
        "1. If there are two languages $L_1$ and $L_2$, their concatenation has smaller size than their cartesian product if the following condition is met:\n",
        "    \n",
        "    **Their intersection is at least of size 2 and contains $\\varepsilon$**\n",
        "    \n",
        "    (The other aspects of the languages may be different.)\n",
        "    \n",
        "Your two tasks are described below.\n",
        "    \n",
        "</font>"
      ]
    },
    {
      "cell_type": "markdown",
      "metadata": {
        "id": "z7Tp0wfu-et_",
        "colab_type": "text"
      },
      "source": [
        "# Space below for your arguments\n",
        "<font size=\"4\">\n",
        "\n",
        "\n",
        "</font>"
      ]
    },
    {
      "cell_type": "markdown",
      "metadata": {
        "id": "1LFalbRE-euA",
        "colab_type": "text"
      },
      "source": [
        "## Now present code that supports or refutes the claim."
      ]
    },
    {
      "cell_type": "markdown",
      "metadata": {
        "id": "rLArqUyu-euB",
        "colab_type": "text"
      },
      "source": [
        "# Task-1: Define two languages to print \"cat and product have the same size\" below. L1 and L2 must both contain $\\varepsilon$."
      ]
    },
    {
      "cell_type": "code",
      "metadata": {
        "id": "3mQTS9fS-euC",
        "colab_type": "code",
        "colab": {}
      },
      "source": [
        "L1 = {'','a', 'b'}\n",
        "L2 = {'','c', 'd'}"
      ],
      "execution_count": 15,
      "outputs": []
    },
    {
      "cell_type": "code",
      "metadata": {
        "id": "JTangyUd-euG",
        "colab_type": "code",
        "colab": {
          "base_uri": "https://localhost:8080/",
          "height": 101
        },
        "outputId": "da6736cf-fad7-4fe6-cb51-eb6555def671"
      },
      "source": [
        "print(\"L1 and L2 are\", L1, L2)\n",
        "\n",
        "# Perform their contatenation \n",
        "\n",
        "catL1L2 = lcat(L1,L2)\n",
        "lencatL1L2 = len(catL1L2)\n",
        "\n",
        "print(\"Cat of L1 and L2 is\", catL1L2, \" of size \", lencatL1L2)\n",
        "\n",
        "# Perform their intersection\n",
        "\n",
        "intL1L2 = lint(L1,L2)\n",
        "lenintL1L2 = len(intL1L2)\n",
        "\n",
        "print(\"Intersection of L1 and L2 is\", intL1L2, \" of size \", lenintL1L2)\n",
        "\n",
        "# Make a statement of what you observe\n",
        "\n",
        "prodL1L2 = { (x,y) for x in L1 for y in L2 }\n",
        "lenprodL1L2 = len(prodL1L2)\n",
        "\n",
        "print(\"Product of L1 and L2 is\", prodL1L2, \" of size \", lenprodL1L2)\n",
        "\n",
        "if (lenprodL1L2 != lencatL1L2):\n",
        "    print(\" cat and product differ in size \")\n",
        "else:\n",
        "    print(\" cat and product have the same size \")\n",
        "    \n",
        " "
      ],
      "execution_count": 16,
      "outputs": [
        {
          "output_type": "stream",
          "text": [
            "L1 and L2 are {'', 'a', 'b'} {'', 'c', 'd'}\n",
            "Cat of L1 and L2 is {'', 'a', 'bd', 'b', 'c', 'd', 'ad', 'bc', 'ac'}  of size  9\n",
            "Intersection of L1 and L2 is {''}  of size  1\n",
            "Product of L1 and L2 is {('', ''), ('a', ''), ('b', 'c'), ('', 'd'), ('a', 'd'), ('', 'c'), ('a', 'c'), ('b', 'd'), ('b', '')}  of size  9\n",
            " cat and product have the same size \n"
          ],
          "name": "stdout"
        }
      ]
    },
    {
      "cell_type": "markdown",
      "metadata": {
        "id": "6gaM7xrO-euT",
        "colab_type": "text"
      },
      "source": [
        "#### The statements you are requested to make corresponding to the prints can be added below\n",
        "#### Did you choose the languages such that cat and intersection resulted in the same size?\n",
        "\n",
        "No, that's not possible since the concatenation would always make two languages larger than what their intersection would be if we require the intersection to be at least 2. If they both just had epsilon then it would be such that cat and intersection were the same size.\n"
      ]
    },
    {
      "cell_type": "markdown",
      "metadata": {
        "id": "s0B5mcuw-euT",
        "colab_type": "text"
      },
      "source": [
        "# Task-2: Define two languages to print \"cat and product differ in size\" below. L1 and L2 must both contain $\\varepsilon$."
      ]
    },
    {
      "cell_type": "code",
      "metadata": {
        "id": "WiNq01Gr-euU",
        "colab_type": "code",
        "colab": {}
      },
      "source": [
        "L1 = {'', 'a', 'b'}\n",
        "L2 = {'', 'a', 'c'}"
      ],
      "execution_count": 17,
      "outputs": []
    },
    {
      "cell_type": "code",
      "metadata": {
        "id": "4x5t9Sj2-euY",
        "colab_type": "code",
        "colab": {
          "base_uri": "https://localhost:8080/",
          "height": 101
        },
        "outputId": "f953a6c8-4b7a-4737-d302-da94e80ad832"
      },
      "source": [
        "print(\"L1 and L2 are\", L1, L2)\n",
        "\n",
        "# Perform their contatenation \n",
        "\n",
        "catL1L2 = lcat(L1,L2)\n",
        "lencatL1L2 = len(catL1L2)\n",
        "\n",
        "print(\"Cat of L1 and L2 is\", catL1L2, \" of size \", lencatL1L2)\n",
        "\n",
        "# Perform their intersection\n",
        "\n",
        "intL1L2 = lint(L1,L2)\n",
        "lenintL1L2 = len(intL1L2)\n",
        "\n",
        "print(\"Intersection of L1 and L2 is\", intL1L2, \" of size \", lenintL1L2)\n",
        "\n",
        "# Make a statement of what you observe\n",
        "\n",
        "prodL1L2 = { (x,y) for x in L1 for y in L2 }\n",
        "lenprodL1L2 = len(prodL1L2)\n",
        "\n",
        "print(\"Product of L1 and L2 is\", prodL1L2, \" of size \", lenprodL1L2)\n",
        "\n",
        "if (lenprodL1L2 != lencatL1L2):\n",
        "    print(\" cat and product differ in size \")\n",
        "else:\n",
        "    print(\" cat and product have the same size \")\n",
        "    \n",
        " "
      ],
      "execution_count": 18,
      "outputs": [
        {
          "output_type": "stream",
          "text": [
            "L1 and L2 are {'', 'a', 'b'} {'', 'c', 'a'}\n",
            "Cat of L1 and L2 is {'', 'a', 'b', 'ba', 'c', 'bc', 'aa', 'ac'}  of size  8\n",
            "Intersection of L1 and L2 is {'', 'a'}  of size  2\n",
            "Product of L1 and L2 is {('', ''), ('', 'a'), ('a', ''), ('a', 'a'), ('b', 'c'), ('b', 'a'), ('', 'c'), ('a', 'c'), ('b', '')}  of size  9\n",
            " cat and product differ in size \n"
          ],
          "name": "stdout"
        }
      ]
    },
    {
      "cell_type": "markdown",
      "metadata": {
        "id": "9mstCtGw-eue",
        "colab_type": "text"
      },
      "source": [
        "#### The statements you are requested to make corresponding to the prints can be added below\n",
        "#### Did you choose the languages such that cat and intersection resulted in different sizes?\n",
        "\n",
        "Yes, with a size of 2 for the intersection.  This helps show that with the requirements of epsilon and at least a size 2 intersection that the product is a larger size than the concatenation.  When you concatenate it doesn't count duplicates like $\\varepsilon$a and a$\\varepsilon$ since they both come down to 'a'\n"
      ]
    }
  ]
}
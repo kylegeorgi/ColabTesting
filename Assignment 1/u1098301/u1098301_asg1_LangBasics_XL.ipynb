{
  "nbformat": 4,
  "nbformat_minor": 0,
  "metadata": {
    "kernelspec": {
      "display_name": "Python 3",
      "language": "python",
      "name": "python3"
    },
    "language_info": {
      "codemirror_mode": {
        "name": "ipython",
        "version": 3
      },
      "file_extension": ".py",
      "mimetype": "text/x-python",
      "name": "python",
      "nbconvert_exporter": "python",
      "pygments_lexer": "ipython3",
      "version": "3.7.3"
    },
    "colab": {
      "name": "u0000000_asg1_LangBasics_XL.ipynb",
      "provenance": []
    }
  },
  "cells": [
    {
      "cell_type": "markdown",
      "metadata": {
        "id": "TGTv52pbFoQR",
        "colab_type": "text"
      },
      "source": [
        "# First let's import, then look for the assignment below"
      ]
    },
    {
      "cell_type": "code",
      "metadata": {
        "id": "xu_1n6X3FoQS",
        "colab_type": "code",
        "colab": {
          "base_uri": "https://localhost:8080/",
          "height": 487
        },
        "outputId": "c416b370-2d3c-4279-ce0f-541dca1e766a"
      },
      "source": [
        "#~~~~~~~~~~~~~~~~~~~~~~~~~~~~~~~~~~~~~~~~~~~~~~~~~~~~~~~\n",
        "import sys\n",
        "\n",
        "# -- Detect if in Own Install or in Colab\n",
        "try:\n",
        "    import google.colab\n",
        "    OWN_INSTALL = False\n",
        "except:\n",
        "    OWN_INSTALL = True\n",
        "    \n",
        "if OWN_INSTALL:\n",
        "    \n",
        "  #---- Leave these definitions ON if running on laptop\n",
        "  #---- Else turn OFF by putting them between ''' ... '''\n",
        "\n",
        "  sys.path[0:0] = ['../../../../..',  '../../../../../3rdparty',  \n",
        "                   '../../../..',  '../../../../3rdparty',  \n",
        "                   '../../..',     '../../../3rdparty', \n",
        "                   '../..',        '../../3rdparty',\n",
        "                   '..',           '../3rdparty' ]\n",
        "\n",
        "else: # In colab\n",
        "  ! if [ ! -d Jove ]; then git clone https://github.com/ganeshutah/Jove Jove; fi\n",
        "  sys.path.append('./Jove')\n",
        "  sys.path.append('./Jove/jove')\n",
        "\n",
        "# -- common imports --\n",
        "from jove.LangDef   import *\n",
        "#~~~~~~~~~~~~~~~~~~~~~~~~~~~~~~~~~~~~~~~~~~~~~~~~~~~~~~~"
      ],
      "execution_count": 1,
      "outputs": [
        {
          "output_type": "stream",
          "text": [
            "Cloning into 'Jove'...\n",
            "remote: Enumerating objects: 48, done.\u001b[K\n",
            "remote: Counting objects: 100% (48/48), done.\u001b[K\n",
            "remote: Compressing objects: 100% (36/36), done.\u001b[K\n",
            "remote: Total 3621 (delta 25), reused 30 (delta 10), pack-reused 3573\u001b[K\n",
            "Receiving objects: 100% (3621/3621), 6.56 MiB | 8.70 MiB/s, done.\n",
            "Resolving deltas: 100% (2324/2324), done.\n",
            "You may use any of these help commands:\n",
            "help(lphi)\n",
            "help(lunit)\n",
            "help(lcat)\n",
            "help(lexp)\n",
            "help(lunion)\n",
            "help(lstar)\n",
            "help(srev)\n",
            "help(lrev)\n",
            "help(shomo)\n",
            "help(lhomo)\n",
            "help(powset)\n",
            "help(lint)\n",
            "help(lsymdiff)\n",
            "help(lminus)\n",
            "help(lissubset)\n",
            "help(lissuperset)\n",
            "help(lcomplem)\n",
            "help(product)\n",
            "help(nthnumeric)\n",
            "\n"
          ],
          "name": "stdout"
        }
      ]
    },
    {
      "cell_type": "markdown",
      "metadata": {
        "id": "roWOxY7FFoQY",
        "colab_type": "text"
      },
      "source": [
        "# Assignment-1 Problem-3 on Language Basics\n",
        "\n",
        "## Graded by Xinyi (Nicole) Li (XL)\n",
        "\n",
        "### BEFORE YOU SUBMIT THIS FILE, PLEASE RENAME THIS FILE BY REPLACING THE 0000000 IN THE FILE NAME WITH YOUR CORRECT UNID. KEEP THE \"u\" AT THE BEGINNING.\n",
        "\n",
        "\n",
        " <font size=\"4\"> \n",
        "\n",
        "This problem helps you review the basics of languages, symbols, strings, concatenation, etc. It presents the material in the form of puzzles. You are to take each challenge and either argue it is true or false, providing evidence via Jove sessions. Specifics will be further described below.\n",
        "    \n",
        "Tasks for you:\n",
        " \n",
        "</font>"
      ]
    },
    {
      "cell_type": "markdown",
      "metadata": {
        "id": "XtUeYuG0FoQb",
        "colab_type": "text"
      },
      "source": [
        "# Here is a claim relating intersection to concatenation\n",
        "\n",
        "\n",
        "<font size=\"4\"> \n",
        "\n",
        " If there are two languages $L_1$ and $L_2$, their intersection can never be the same as their concatenation if the languages are finite.\n",
        "    \n",
        " \n",
        "</font>"
      ]
    },
    {
      "cell_type": "markdown",
      "metadata": {
        "id": "emleqGGnFoQd",
        "colab_type": "text"
      },
      "source": [
        "## Define L1 and L2 (both finite) to make intersection = concatenation"
      ]
    },
    {
      "cell_type": "code",
      "metadata": {
        "id": "6MoVREpdFoQe",
        "colab_type": "code",
        "colab": {
          "base_uri": "https://localhost:8080/",
          "height": 50
        },
        "outputId": "cebd8413-f4ad-46b7-c462-1fc4a3202cba"
      },
      "source": [
        "# Define two FINITE languages\n",
        "L1 = {''}\n",
        "L2 = {''}\n",
        "\n",
        "# Perform their intersection\n",
        "\n",
        "intL1L2 = lint(L1,L2)\n",
        "\n",
        "# Perform their concatenation\n",
        "\n",
        "catL1L2 = lcat(L1,L2)\n",
        "\n",
        "# Make a statement of what you observe\n",
        "\n",
        "print(\"intersection = \", intL1L2)\n",
        "print(\"concatenation = \", catL1L2)\n",
        "\n",
        "# THEY MUST BE THE SAME"
      ],
      "execution_count": 6,
      "outputs": [
        {
          "output_type": "stream",
          "text": [
            "intersection =  {''}\n",
            "concatenation =  {''}\n"
          ],
          "name": "stdout"
        }
      ]
    },
    {
      "cell_type": "markdown",
      "metadata": {
        "id": "De_9V1HmGoSE",
        "colab_type": "text"
      },
      "source": [
        "If the languages are the exact same with only $\\varepsilon$ then the cat and intersection will be the same, otherwise the statement is above is true"
      ]
    },
    {
      "cell_type": "markdown",
      "metadata": {
        "id": "bWLnAEqZFoQl",
        "colab_type": "text"
      },
      "source": [
        "## Define L1 and L2 (both finite) to make intersection != concatenation"
      ]
    },
    {
      "cell_type": "code",
      "metadata": {
        "id": "WgWFGDyiFoQm",
        "colab_type": "code",
        "colab": {
          "base_uri": "https://localhost:8080/",
          "height": 50
        },
        "outputId": "97914a8a-89d1-4386-b19d-b45250ed31dc"
      },
      "source": [
        "# Define two FINITE languages\n",
        "L1 = {'a'}\n",
        "L2 = {'a'}\n",
        "\n",
        "# Perform their intersection\n",
        "\n",
        "intL1L2 = lint(L1,L2)\n",
        "\n",
        "# Perform their concatenation\n",
        "\n",
        "catL1L2 = lcat(L1,L2)\n",
        "\n",
        "# Make a statement of what you observe\n",
        "\n",
        "print(\"intersection = \", intL1L2)\n",
        "print(\"concatenation = \", catL1L2)\n",
        "\n",
        "# THEY MUST BE THE DIFFERENT"
      ],
      "execution_count": 10,
      "outputs": [
        {
          "output_type": "stream",
          "text": [
            "intersection =  {'a'}\n",
            "concatenation =  {'aa'}\n"
          ],
          "name": "stdout"
        }
      ]
    },
    {
      "cell_type": "markdown",
      "metadata": {
        "id": "jCs60M4nHEf7",
        "colab_type": "text"
      },
      "source": [
        "Even if the languages are the same, if it isn't just $\\varepsilon$ in them then the cat and intersection will be different"
      ]
    },
    {
      "cell_type": "markdown",
      "metadata": {
        "id": "2I3zFkM3FoQq",
        "colab_type": "text"
      },
      "source": [
        "# END"
      ]
    }
  ]
}